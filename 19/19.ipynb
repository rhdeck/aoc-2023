{
 "cells": [
  {
   "cell_type": "markdown",
   "metadata": {},
   "source": [
    "# Data Preparation"
   ]
  },
  {
   "cell_type": "code",
   "execution_count": 5,
   "metadata": {},
   "outputs": [],
   "source": [
    "source = open(\"19.txt\").read()\n",
    "\n",
    "instructions, data = source.split(\"\\n\\n\")\n",
    "\n",
    "lines = data.split('\\n')\n",
    "ratings = []\n",
    "for line in lines:\n",
    "    line = line.strip('{}')\n",
    "    # print(line)\n",
    "    pairs = line.split(',')\n",
    "    # print(pairs)\n",
    "    o = {}\n",
    "    for pair in pairs:\n",
    "        k, v = pair.split('=')\n",
    "        o[k] = int(v)\n",
    "    # print(o)\n",
    "    ratings.append(o)\n",
    "ratings\n",
    "\n",
    "lines = instructions.split('\\n')\n",
    "operations = {}\n",
    "for line in lines:\n",
    "    line = line.strip()\n",
    "    key, condition_string = line.split('{')\n",
    "    condition_string = condition_string.rstrip('}')\n",
    "    conditions = condition_string.split(',')\n",
    "    operations[key] =conditions\n",
    "# operations"
   ]
  },
  {
   "cell_type": "markdown",
   "metadata": {},
   "source": [
    "# Part 1"
   ]
  },
  {
   "cell_type": "code",
   "execution_count": 2,
   "metadata": {},
   "outputs": [
    {
     "name": "stdout",
     "output_type": "stream",
     "text": [
      "Final score is 389114.\n"
     ]
    }
   ],
   "source": [
    "\n",
    "\n",
    "\n",
    "# def sortOperations(ratings, operations):\n",
    "def evaluate(rating, operation):\n",
    "    # print(rating, operation)\n",
    "    output = \"A\"\n",
    "    for condition in operation:\n",
    "        if \":\" in condition:\n",
    "            test, destination = condition.split(':')\n",
    "            for score in rating.keys():\n",
    "                if score in test:\n",
    "                    test = test.replace(score, str(rating[score]))\n",
    "            # print(test)\n",
    "            if eval(test):\n",
    "                output = destination\n",
    "                break\n",
    "        else:\n",
    "            output = condition\n",
    "    return output\n",
    "\n",
    "def chainEvaluate(rating, operations):\n",
    "    isDone = False\n",
    "    output = 'in'\n",
    "    chain = []\n",
    "    while (isDone == False):\n",
    "        chain.append(output)\n",
    "        output = evaluate(rating, operations[output])\n",
    "        if output in \"AR\":\n",
    "            isDone = True\n",
    "    return output, chain\n",
    "score = 0\n",
    "for rating in ratings:\n",
    "    this_score, chain = chainEvaluate(rating, operations)\n",
    "    if(len(chain)) != len(set(chain)): print(rating, chain, len(chain), len(set(chain)), this_score)\n",
    "    if(this_score == 'A'):\n",
    "        score += sum(rating.values())\n",
    "    # if chainEvaluate(rating, operations) == 'A' :\n",
    "    #     score += sum(rating.values())\n",
    "print(\"Final score is\", str(score) + \".\")\n"
   ]
  },
  {
   "cell_type": "markdown",
   "metadata": {},
   "source": [
    "# Part 2"
   ]
  },
  {
   "cell_type": "code",
   "execution_count": 6,
   "metadata": {},
   "outputs": [],
   "source": [
    "scores = [{\"key\": \"in\", \"x\": (1,4000), \"m\": (1,4000), \"a\":(1,4000), \"s\": (1,4000)}]\n",
    "\n",
    "accepts = []\n",
    "rejects = []\n",
    "\n",
    "while(len(scores) > 0):\n",
    "    # evaluate scores for each category\n",
    "    # print(\"---------\")\n",
    "    # print(\"Starting with scores\")\n",
    "    # for score in scores:\n",
    "    #     print(score)\n",
    "    # print(\"---------\")\n",
    "    newScores = []\n",
    "    for score in scores:\n",
    "        op = score[\"key\"]\n",
    "        conditions = operations[op]\n",
    "        # print(\"Testing against op\", conditions)\n",
    "        for condition in conditions:\n",
    "            if ':' in condition:\n",
    "                # print(\"Working with condition containing colon of\", condition)\n",
    "                test, destination = condition.split(':')\n",
    "                if \"<\" in test:\n",
    "                    k, max_plus_one = test.split(\"<\")\n",
    "                    max_score = int(max_plus_one) \n",
    "                    # print(\"score is\", score,\"max score is\", max_score, k)\n",
    "                    if score[k][0] < max_score:\n",
    "                        #split \n",
    "                        keyscore = score[k]\n",
    "                        lowScore = (score[k][0], max_score -1)\n",
    "                        newScore = score.copy()\n",
    "                        newScore[\"key\"] = destination\n",
    "                        newScore[k] = lowScore\n",
    "                        newScores.append(newScore)\n",
    "                        highScore = (max_score, score[k][1])\n",
    "                        # newScore = score.copy()\n",
    "                        score[k] = highScore\n",
    "                        # score = newScore\n",
    "                else: # \">\" in test\n",
    "                    k, min_minus_one = test.split(\">\")\n",
    "                    min_score = int(min_minus_one)\n",
    "                    # print(\"score is\", score,\"min score is\", min_score,k)\n",
    "                    if score[k][1] > min_score:\n",
    "                        #split \n",
    "                        keyscore = score[k]\n",
    "                        highScore = (min_score + 1, score[k][1])\n",
    "                        # print(highScore)\n",
    "                        newScore = score.copy()\n",
    "                        newScore[\"key\"] = destination\n",
    "                        newScore[k] = highScore\n",
    "                        newScores.append(newScore)\n",
    "                        lowScore = (score[k][0], min_score)\n",
    "                        # newScore = score.copy()\n",
    "                        score[k] = lowScore\n",
    "                        # newScores.append(newScore)\n",
    "            else:\n",
    "                # print(\"Working with condition without colon of\", condition)\n",
    "                newScore = score.copy()\n",
    "                newScore[\"key\"] = condition\n",
    "                newScores.append(newScore)\n",
    "    scores = []\n",
    "    # print(\"==========\")\n",
    "    # print(\"New scores\")\n",
    "    # for score in newScores:\n",
    "    #     print(score)\n",
    "    # print(\"==========\")\n",
    "    for score in newScores:\n",
    "        key = score[\"key\"]\n",
    "        if key == 'A':\n",
    "            accepts.append(score)\n",
    "        elif key == \"R\":\n",
    "            rejects.append(score)     \n",
    "        else: \n",
    "            scores.append(score)\n",
    "    \n",
    "        \n",
    "        "
   ]
  },
  {
   "cell_type": "code",
   "execution_count": 9,
   "metadata": {},
   "outputs": [
    {
     "name": "stdout",
     "output_type": "stream",
     "text": [
      "Part 2 answer 125051049836302\n"
     ]
    }
   ],
   "source": [
    "# print(\"Accepts\", len(accepts))\n",
    "# accepts\n",
    "sum = 0\n",
    "for o in accepts:\n",
    "    # print(o)\n",
    "    product = (o[\"x\"][1] - o[\"x\"][0]+1) * (o[\"m\"][1] - o[\"m\"][0]+1) * (o[\"a\"][1] - o[\"a\"][0]+1) * (o[\"s\"][1] - o[\"s\"][0]+1)\n",
    "    # print(product)\n",
    "    sum += product\n",
    "\n",
    "print(\"Part 2 answer\", sum)\n"
   ]
  }
 ],
 "metadata": {
  "kernelspec": {
   "display_name": "Python 3",
   "language": "python",
   "name": "python3"
  },
  "language_info": {
   "codemirror_mode": {
    "name": "ipython",
    "version": 3
   },
   "file_extension": ".py",
   "mimetype": "text/x-python",
   "name": "python",
   "nbconvert_exporter": "python",
   "pygments_lexer": "ipython3",
   "version": "3.11.4"
  }
 },
 "nbformat": 4,
 "nbformat_minor": 2
}
