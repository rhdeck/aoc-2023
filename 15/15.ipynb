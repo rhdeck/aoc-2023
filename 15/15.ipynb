{
 "cells": [
  {
   "cell_type": "code",
   "execution_count": 31,
   "metadata": {},
   "outputs": [
    {
     "data": {
      "text/plain": [
       "4000"
      ]
     },
     "execution_count": 31,
     "metadata": {},
     "output_type": "execute_result"
    }
   ],
   "source": [
    "source = open(\"15.txt\").read().strip().split(\",\")\n",
    "\n",
    "len(source)"
   ]
  },
  {
   "cell_type": "markdown",
   "metadata": {},
   "source": [
    "# Part 1"
   ]
  },
  {
   "cell_type": "code",
   "execution_count": 32,
   "metadata": {},
   "outputs": [
    {
     "data": {
      "text/plain": [
       "507769"
      ]
     },
     "execution_count": 32,
     "metadata": {},
     "output_type": "execute_result"
    }
   ],
   "source": [
    "def decode(source):\n",
    "    out = 0\n",
    "    for c in source:\n",
    "        out += ord(c)\n",
    "        out *= 17\n",
    "        out %= 256\n",
    "    return out\n",
    "\n",
    "sum([decode(s) for s in source])"
   ]
  },
  {
   "cell_type": "markdown",
   "metadata": {},
   "source": [
    "# Part 2"
   ]
  },
  {
   "cell_type": "code",
   "execution_count": 35,
   "metadata": {},
   "outputs": [
    {
     "data": {
      "text/plain": [
       "269747"
      ]
     },
     "execution_count": 35,
     "metadata": {},
     "output_type": "execute_result"
    }
   ],
   "source": [
    "import re\n",
    "boxes = [[] for _ in range(256)]\n",
    "for lens in source:\n",
    "    opPos = re.search(\"[=-]\", lens).span()[0]\n",
    "    op = lens[opPos:opPos+1]\n",
    "    key = lens[:opPos]\n",
    "    box = decode(key)\n",
    "    value = lens[opPos+1:]\n",
    "\n",
    "    if op == \"=\":\n",
    "        found = False\n",
    "        for i in range(len(boxes[box])):\n",
    "            if boxes[box][i][0] == key:\n",
    "                boxes[box][i] = (key, value)\n",
    "                found = True\n",
    "                break\n",
    "        if not found:\n",
    "            boxes[box].append((key, value))        \n",
    "    else:\n",
    "        #look for box that has this key\n",
    "        boxes[box] = list(filter( lambda x: x[0] != key, boxes[box]))\n",
    "\n",
    "score = 0\n",
    "for i, box in enumerate(boxes):\n",
    "    for j, t in enumerate(box):\n",
    "        v = int(t[1])\n",
    "        score += (i+1) * (j+1) * v\n",
    "\n",
    "score"
   ]
  }
 ],
 "metadata": {
  "kernelspec": {
   "display_name": "Python 3",
   "language": "python",
   "name": "python3"
  },
  "language_info": {
   "codemirror_mode": {
    "name": "ipython",
    "version": 3
   },
   "file_extension": ".py",
   "mimetype": "text/x-python",
   "name": "python",
   "nbconvert_exporter": "python",
   "pygments_lexer": "ipython3",
   "version": "3.11.4"
  }
 },
 "nbformat": 4,
 "nbformat_minor": 2
}
