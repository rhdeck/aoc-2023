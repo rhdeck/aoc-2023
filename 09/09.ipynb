{
 "cells": [
  {
   "cell_type": "code",
   "execution_count": 7,
   "metadata": {},
   "outputs": [
    {
     "data": {
      "text/plain": [
       "114"
      ]
     },
     "execution_count": 7,
     "metadata": {},
     "output_type": "execute_result"
    }
   ],
   "source": [
    "source = open(\"09.txt\").read()\n",
    "lines = [[int(y) for y in x.split(' ')] for x in source.splitlines()]\n",
    "\n",
    "nexts = []\n",
    "for line in lines:\n",
    "    diffsets = [line]\n",
    "    currentLine = line\n",
    "    while True:\n",
    "        diffs = []\n",
    "        for i in range(len(currentLine)-1):\n",
    "            diffs.append(abs(currentLine[i] - currentLine[i+1]))\n",
    "        diffsets.append(diffs)\n",
    "        currentLine = diffs\n",
    "        if(sum(diffs) == 0): break\n",
    "    last = sum([diffs[-1] for diffs in diffsets])\n",
    "    nexts.append(last)\n",
    "\n",
    "part1 = sum(nexts)\n",
    "\n",
    "part1\n",
    "        "
   ]
  }
 ],
 "metadata": {
  "kernelspec": {
   "display_name": "Python 3",
   "language": "python",
   "name": "python3"
  },
  "language_info": {
   "codemirror_mode": {
    "name": "ipython",
    "version": 3
   },
   "file_extension": ".py",
   "mimetype": "text/x-python",
   "name": "python",
   "nbconvert_exporter": "python",
   "pygments_lexer": "ipython3",
   "version": "3.11.4"
  }
 },
 "nbformat": 4,
 "nbformat_minor": 2
}
