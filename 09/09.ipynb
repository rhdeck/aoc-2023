{
 "cells": [
  {
   "cell_type": "markdown",
   "metadata": {},
   "source": [
    "# Part 1 and Part 2 combined\n",
    "Merging the code was simpler"
   ]
  },
  {
   "cell_type": "code",
   "execution_count": 56,
   "metadata": {},
   "outputs": [
    {
     "name": "stdout",
     "output_type": "stream",
     "text": [
      "Part 1 1479011877\n",
      "Part 2 973\n"
     ]
    }
   ],
   "source": [
    "source = open(\"09.txt\").read()\n",
    "lines = [[int(y) for y in x.split(' ')] for x in source.splitlines()]\n",
    "\n",
    "nexts = []\n",
    "firsts = []\n",
    "for line in lines:\n",
    "    diffsets = [line]\n",
    "    currentLine = line\n",
    "    while True:\n",
    "        diffs = [currentLine[i+1] - currentLine[i] for i in range(len(currentLine)-1)]\n",
    "        diffsets.append(diffs)\n",
    "        currentLine = diffs\n",
    "        if(sum(diffs) == 0): break\n",
    "    last = sum([diffs[-1] for diffs in diffsets])\n",
    "    first = 0\n",
    "    for i in range(len(diffsets)-2, -1, -1):\n",
    "        first = diffsets[i][0] - first\n",
    "    firsts.append(first)\n",
    "    nexts.append(last)\n",
    "\n",
    "part1 = sum(nexts)\n",
    "part2 = sum(firsts)\n",
    "\n",
    "print(\"Part 1\", part1)\n",
    "print(\"Part 2\", part2)"
   ]
  }
 ],
 "metadata": {
  "kernelspec": {
   "display_name": "Python 3",
   "language": "python",
   "name": "python3"
  },
  "language_info": {
   "codemirror_mode": {
    "name": "ipython",
    "version": 3
   },
   "file_extension": ".py",
   "mimetype": "text/x-python",
   "name": "python",
   "nbconvert_exporter": "python",
   "pygments_lexer": "ipython3",
   "version": "3.11.4"
  }
 },
 "nbformat": 4,
 "nbformat_minor": 2
}
