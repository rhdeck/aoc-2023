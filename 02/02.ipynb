{
 "cells": [
  {
   "cell_type": "code",
   "execution_count": 42,
   "metadata": {},
   "outputs": [],
   "source": [
    "source = open('02.txt', 'r')\n",
    "data = source.read()\n",
    "source.close()\n",
    "lines = data.split('\\n')"
   ]
  },
  {
   "cell_type": "code",
   "execution_count": 43,
   "metadata": {},
   "outputs": [
    {
     "data": {
      "text/plain": [
       "2105"
      ]
     },
     "execution_count": 43,
     "metadata": {},
     "output_type": "execute_result"
    }
   ],
   "source": [
    "limits = { 'red': 12, 'green': 13, 'blue': 14}\n",
    "games = []\n",
    "for line in lines:\n",
    "    id_raw, scores = line.split(':')\n",
    "    _,id_str = id_raw.split(' ')\n",
    "    id = int(id_str)\n",
    "    turns = scores.split(';')\n",
    "    okturn = True\n",
    "    for turn in turns: \n",
    "        if okturn == False: break;\n",
    "          \n",
    "        scores = turn.split(',')\n",
    "        \n",
    "        for score in scores:\n",
    "            \n",
    "            # print('\"' + score + '\"')\n",
    "            count, color = score.strip().split(' ')\n",
    "            count = int(count)\n",
    "            if(limits[color] < count):\n",
    "                #this is not ok\n",
    "                okturn = False\n",
    "                break \n",
    "    if(okturn == True): \n",
    "        games.append(id)\n",
    "# print(games)\n",
    "sum = 0\n",
    "\n",
    "for game in games:\n",
    "    sum += game\n",
    "sum"
   ]
  },
  {
   "cell_type": "code",
   "execution_count": 44,
   "metadata": {},
   "outputs": [
    {
     "data": {
      "text/plain": [
       "72422"
      ]
     },
     "execution_count": 44,
     "metadata": {},
     "output_type": "execute_result"
    }
   ],
   "source": [
    "games = []\n",
    "for line in lines:\n",
    "    id_raw, scores = line.split(':')\n",
    "    _,id_str = id_raw.split(' ')\n",
    "    id = int(id_str)\n",
    "    turns = scores.split(';')\n",
    "    minimums = { 'red': 0, 'green': 0, 'blue': 0}\n",
    "    for turn in turns: \n",
    "        scores = turn.split(',')\n",
    "        for score in scores:\n",
    "            count, color = score.strip().split(' ')\n",
    "            count = int(count)\n",
    "            if(minimums[color] < count):\n",
    "                minimums[color] = count\n",
    "    minScore = minimums['red'] * minimums['green'] * minimums['blue']\n",
    "    games.append(minScore)\n",
    "# print(games)\n",
    "sum = 0\n",
    "for game in games:\n",
    "    sum += game\n",
    "sum"
   ]
  }
 ],
 "metadata": {
  "kernelspec": {
   "display_name": "Python 3",
   "language": "python",
   "name": "python3"
  },
  "language_info": {
   "codemirror_mode": {
    "name": "ipython",
    "version": 3
   },
   "file_extension": ".py",
   "mimetype": "text/x-python",
   "name": "python",
   "nbconvert_exporter": "python",
   "pygments_lexer": "ipython3",
   "version": "3.11.4"
  }
 },
 "nbformat": 4,
 "nbformat_minor": 2
}
