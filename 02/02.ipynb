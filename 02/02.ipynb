{
 "cells": [
  {
   "cell_type": "code",
   "execution_count": 28,
   "metadata": {},
   "outputs": [
    {
     "name": "stdout",
     "output_type": "stream",
     "text": [
      "Requirement already satisfied: numpy in /opt/homebrew/lib/python3.11/site-packages (1.26.2)\n",
      "\n",
      "\u001b[1m[\u001b[0m\u001b[34;49mnotice\u001b[0m\u001b[1;39;49m]\u001b[0m\u001b[39;49m A new release of pip is available: \u001b[0m\u001b[31;49m23.0.1\u001b[0m\u001b[39;49m -> \u001b[0m\u001b[32;49m23.3.1\u001b[0m\n",
      "\u001b[1m[\u001b[0m\u001b[34;49mnotice\u001b[0m\u001b[1;39;49m]\u001b[0m\u001b[39;49m To update, run: \u001b[0m\u001b[32;49mpython3.11 -m pip install --upgrade pip\u001b[0m\n",
      "Note: you may need to restart the kernel to use updated packages.\n"
     ]
    }
   ],
   "source": [
    "%pip install numpy"
   ]
  },
  {
   "cell_type": "code",
   "execution_count": 29,
   "metadata": {},
   "outputs": [],
   "source": [
    "source = open('02.txt', 'r')\n",
    "data = source.read()\n",
    "source.close()\n",
    "lines = data.split('\\n')"
   ]
  },
  {
   "cell_type": "code",
   "execution_count": 30,
   "metadata": {},
   "outputs": [
    {
     "data": {
      "text/plain": [
       "2105"
      ]
     },
     "execution_count": 30,
     "metadata": {},
     "output_type": "execute_result"
    }
   ],
   "source": [
    "limits = { 'red': 12, 'green': 13, 'blue': 14}\n",
    "games = []\n",
    "for line in lines:\n",
    "    id_raw, scores = line.split(':')\n",
    "    _,id_str = id_raw.split(' ')\n",
    "    id = int(id_str)\n",
    "    turns = scores.split(';')\n",
    "    okturn = True\n",
    "    for turn in turns: \n",
    "        if okturn == False: break;\n",
    "        scores = turn.split(',')\n",
    "        for score in scores:\n",
    "            count, color = score.strip().split(' ')\n",
    "            count = int(count)\n",
    "            if(limits[color] < count):\n",
    "                #this is not ok\n",
    "                okturn = False\n",
    "                break \n",
    "    if(okturn == True): \n",
    "        games.append(id)\n",
    "# print(games)\n",
    "sum = 0\n",
    "\n",
    "for game in games:\n",
    "    sum += game\n",
    "sum"
   ]
  },
  {
   "cell_type": "code",
   "execution_count": 57,
   "metadata": {},
   "outputs": [
    {
     "data": {
      "text/plain": [
       "72422"
      ]
     },
     "execution_count": 57,
     "metadata": {},
     "output_type": "execute_result"
    }
   ],
   "source": [
    "\n",
    "import numpy as np\n",
    "games = []\n",
    "for line in lines:\n",
    "    minimums = { 'red': 0, 'green': 0, 'blue': 0}\n",
    "    for turn in line.split(':')[1].split(';'): \n",
    "        for score in turn.split(','):\n",
    "            count, color = score.strip().split(' ')\n",
    "            minimums[color] = max(minimums[color], int(count))\n",
    "    games.append(np.prod(list(minimums.values())))\n",
    "output = np.array(games).sum()\n",
    "output"
   ]
  }
 ],
 "metadata": {
  "kernelspec": {
   "display_name": "Python 3",
   "language": "python",
   "name": "python3"
  },
  "language_info": {
   "codemirror_mode": {
    "name": "ipython",
    "version": 3
   },
   "file_extension": ".py",
   "mimetype": "text/x-python",
   "name": "python",
   "nbconvert_exporter": "python",
   "pygments_lexer": "ipython3",
   "version": "3.11.4"
  }
 },
 "nbformat": 4,
 "nbformat_minor": 2
}
