{
 "cells": [
  {
   "cell_type": "markdown",
   "metadata": {},
   "source": [
    "# Setup"
   ]
  },
  {
   "cell_type": "code",
   "execution_count": 72,
   "metadata": {},
   "outputs": [],
   "source": [
    "import pandas\n",
    "\n",
    "df = pandas.read_fwf(\"04.txt\", header=None)\n",
    "first_line = df.values[0]\n",
    "pipe_position = -1\n",
    "for i in range(len(first_line)):\n",
    "    if first_line[i] == '|':\n",
    "        pipe_position = i\n",
    "        break\n",
    "scores = []\n",
    "def get_score(row):\n",
    "    winners = row.values[2:pipe_position]\n",
    "    scratches = row.values[pipe_position+1:]\n",
    "    winning_scratches = [x for x in scratches if x in winners]\n",
    "    return len(winning_scratches)\n"
   ]
  },
  {
   "cell_type": "markdown",
   "metadata": {},
   "source": [
    "# Part 1"
   ]
  },
  {
   "cell_type": "code",
   "execution_count": 73,
   "metadata": {},
   "outputs": [
    {
     "data": {
      "text/plain": [
       "22897"
      ]
     },
     "execution_count": 73,
     "metadata": {},
     "output_type": "execute_result"
    }
   ],
   "source": [
    "for index, row in df.iterrows():\n",
    "    score = get_score(row)\n",
    "    score = (2 ** (score-1)) if score > 0 else 0\n",
    "    scores.append(score)\n",
    "total_score = sum(scores)\n",
    "total_score"
   ]
  },
  {
   "cell_type": "markdown",
   "metadata": {},
   "source": [
    "# Part 2"
   ]
  },
  {
   "cell_type": "code",
   "execution_count": 74,
   "metadata": {},
   "outputs": [
    {
     "data": {
      "text/plain": [
       "5095824"
      ]
     },
     "execution_count": 74,
     "metadata": {},
     "output_type": "execute_result"
    }
   ],
   "source": [
    "rscores =[0] * len(df.values)\n",
    "def get_recursive_score(row, index, df): \n",
    "    if(rscores[index] > 0): \n",
    "        return rscores[index]\n",
    "    score = get_score(row)\n",
    "\n",
    "    if score > 0: \n",
    "        base = 1\n",
    "        for i in range(score):\n",
    "            if(index + i + 1 >= len(df.values)):\n",
    "                rscores[index] = base\n",
    "                return base\n",
    "            else: \n",
    "                row = df.iloc[index+i+1]\n",
    "                base +=  get_recursive_score(row , index+i+1, df)\n",
    "        rscores[index] = base\n",
    "        return base\n",
    "    else:\n",
    "        rscores[index] = 1\n",
    "        return 1\n",
    "   \n",
    "scores2 = []\n",
    "df.reset_index()\n",
    "for i in range(len(df.values)-1, -1, -1):\n",
    "    row = df.iloc[i]\n",
    "    get_recursive_score(row, i, df);\n",
    "total_score2 = sum(rscores)\n",
    "total_score2"
   ]
  }
 ],
 "metadata": {
  "kernelspec": {
   "display_name": "Python 3",
   "language": "python",
   "name": "python3"
  },
  "language_info": {
   "codemirror_mode": {
    "name": "ipython",
    "version": 3
   },
   "file_extension": ".py",
   "mimetype": "text/x-python",
   "name": "python",
   "nbconvert_exporter": "python",
   "pygments_lexer": "ipython3",
   "version": "3.11.4"
  }
 },
 "nbformat": 4,
 "nbformat_minor": 2
}
