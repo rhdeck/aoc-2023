{
 "cells": [
  {
   "cell_type": "code",
   "execution_count": 1,
   "metadata": {},
   "outputs": [],
   "source": [
    "source = open(\"14.txt\").readlines()\n",
    "source = [list(line.strip()) for line in source]\n",
    "\n",
    "def rotate(a):\n",
    "    out = [[] for i in a[0]]\n",
    "    # print(out)\n",
    "    for i, row in enumerate(a):\n",
    "        # print(row)\n",
    "        for j, elem in enumerate(row):\n",
    "            # print(j, elem)\n",
    "            out[j].append(elem)\n",
    "    for row in out:\n",
    "        row.reverse()\n",
    "    return out\n",
    "\n",
    "\n",
    "\n",
    "def falling_rocks(row):\n",
    "    row_image = ''.join(row)\n",
    "    new_image = ''\n",
    "    while new_image != row_image:\n",
    "        row_image = new_image\n",
    "        for i in range(len(row)-1):\n",
    "            if row[i] == 'O' and row[i+1] == '.':\n",
    "                row[i] = '.'\n",
    "                row[i+1] = 'O'\n",
    "        new_image = ''.join(row)\n",
    "        # print(new_image, row_image)\n",
    "    return row\n",
    "\n",
    "def score_row(row):\n",
    "    score = 0\n",
    "    for i, elem in enumerate(row):\n",
    "        if elem == 'O':\n",
    "            score += i+1\n",
    "    return score\n",
    "\n"
   ]
  },
  {
   "cell_type": "markdown",
   "metadata": {},
   "source": [
    "# Part 1"
   ]
  },
  {
   "cell_type": "code",
   "execution_count": 2,
   "metadata": {},
   "outputs": [
    {
     "data": {
      "text/plain": [
       "109939"
      ]
     },
     "execution_count": 2,
     "metadata": {},
     "output_type": "execute_result"
    }
   ],
   "source": [
    "part1 = rotate(source)\n",
    "score = 0\n",
    "for row in part1:\n",
    "    row = falling_rocks(row)\n",
    "    score += score_row(row)\n",
    "\n",
    "score"
   ]
  },
  {
   "cell_type": "markdown",
   "metadata": {},
   "source": [
    "# Part 2"
   ]
  },
  {
   "cell_type": "code",
   "execution_count": 3,
   "metadata": {},
   "outputs": [],
   "source": [
    "scores = []\n",
    "for i in range(300):\n",
    "    for k in range(4):\n",
    "        source = rotate(source) # Start with \"North\"\n",
    "        # print(\"----- New row\", i)\n",
    "        # print(\"--At start\", i)\n",
    "        # [print(' '.join(r)) for r in source]\n",
    "        # print(source)\n",
    "        total_score = 0\n",
    "        new_rows = []\n",
    "        for row in source:\n",
    "            out = falling_rocks(row)\n",
    "            new_rows.append(out)\n",
    "            # score = score_row(out)\n",
    "            # total_score += score\n",
    "    north_matrix = new_rows\n",
    "    # for j in range(i % 4):\n",
    "    north_matrix = rotate(north_matrix)\n",
    "    for row in north_matrix:\n",
    "        score = score_row(row)\n",
    "        total_score += score\n",
    "    scores.append(total_score)\n",
    "    # print(total_score)\n",
    "    # print(\"--At end\", i, total_score)\n",
    "    # [print(' '.join(r)) for r in new_rows]\n",
    "    source = new_rows"
   ]
  },
  {
   "cell_type": "code",
   "execution_count": 4,
   "metadata": {},
   "outputs": [
    {
     "name": "stdout",
     "output_type": "stream",
     "text": [
      "Offset: 93 Repeat pattern: 44\n",
      "101010\n"
     ]
    }
   ],
   "source": [
    "def findHalf(scores):\n",
    "    for i, score in enumerate(scores):\n",
    "        # find repeating patterns\n",
    "        if(i < 2):\n",
    "            continue\n",
    "        subscore = scores[0:i]\n",
    "        for j in range(0, i - 2):\n",
    "            for k in range(0,i-j):\n",
    "                offset = subscore[0:j+k]\n",
    "                pattern = subscore[j+k:]\n",
    "                if len(pattern) % 2 == 1: continue\n",
    "                # print(\"checking\", i, j ,k)\n",
    "                half = int(len(pattern) / 2)\n",
    "                # print(half)\n",
    "                patterna = pattern[0:half]\n",
    "                patternb = pattern[half:]\n",
    "                # print(patterna, patternb)\n",
    "                if(patterna == patternb):\n",
    "                    # print(\"Found repeating pattern\", patterna, offset)\n",
    "                    return offset, patterna\n",
    "    print(\"No repeating pattern\")\n",
    "\n",
    "offset, patterna = findHalf(scores)\n",
    "\n",
    "# print(offset, patterna)\n",
    "print(\"Offset:\", len(offset), \"Repeat pattern:\", len(patterna))\n",
    "\n",
    "def findAt(scores, offset, patterna, target):\n",
    "    position = target - len(offset) -1\n",
    "    patternpos = position % len(patterna)\n",
    "    return patterna[patternpos]\n",
    "\n",
    "print(findAt(scores, offset, patterna, 1000000000))"
   ]
  }
 ],
 "metadata": {
  "kernelspec": {
   "display_name": "Python 3",
   "language": "python",
   "name": "python3"
  },
  "language_info": {
   "codemirror_mode": {
    "name": "ipython",
    "version": 3
   },
   "file_extension": ".py",
   "mimetype": "text/x-python",
   "name": "python",
   "nbconvert_exporter": "python",
   "pygments_lexer": "ipython3",
   "version": "3.11.4"
  }
 },
 "nbformat": 4,
 "nbformat_minor": 2
}
