{
 "cells": [
  {
   "cell_type": "code",
   "execution_count": 7,
   "metadata": {},
   "outputs": [],
   "source": [
    "source = open(\"14.txt\").readlines()\n",
    "source = [list(line.strip()) for line in source]\n",
    "\n",
    "def rotate(a):\n",
    "    out = [[] for i in a[0]]\n",
    "    # print(out)\n",
    "    for i, row in enumerate(a):\n",
    "        # print(row)\n",
    "        for j, elem in enumerate(row):\n",
    "            # print(j, elem)\n",
    "            out[j].append(elem)\n",
    "    for row in out:\n",
    "        row.reverse()\n",
    "    return out\n",
    "\n",
    "\n",
    "\n",
    "def falling_rocks(row):\n",
    "    row_image = ''.join(row)\n",
    "    new_image = ''\n",
    "    while new_image != row_image:\n",
    "        row_image = new_image\n",
    "        for i in range(len(row)-1):\n",
    "            if row[i] == 'O' and row[i+1] == '.':\n",
    "                row[i] = '.'\n",
    "                row[i+1] = 'O'\n",
    "        new_image = ''.join(row)\n",
    "        # print(new_image, row_image)\n",
    "    return row\n",
    "\n",
    "def score_row(row):\n",
    "    score = 0\n",
    "    for i, elem in enumerate(row):\n",
    "        if elem == 'O':\n",
    "            score += i+1\n",
    "    return score\n",
    "\n"
   ]
  },
  {
   "cell_type": "markdown",
   "metadata": {},
   "source": [
    "# Part 1"
   ]
  },
  {
   "cell_type": "code",
   "execution_count": 8,
   "metadata": {},
   "outputs": [
    {
     "data": {
      "text/plain": [
       "109939"
      ]
     },
     "execution_count": 8,
     "metadata": {},
     "output_type": "execute_result"
    }
   ],
   "source": [
    "part1 = rotate(source)\n",
    "score = 0\n",
    "for row in part1:\n",
    "    row = falling_rocks(row)\n",
    "    score += score_row(row)\n",
    "\n",
    "score"
   ]
  },
  {
   "cell_type": "code",
   "execution_count": 12,
   "metadata": {},
   "outputs": [],
   "source": [
    "scores = []\n",
    "for i in range(300):\n",
    "    for k in range(4):\n",
    "        source = rotate(source) # Start with \"North\"\n",
    "        # print(\"----- New row\", i)\n",
    "        # print(\"--At start\", i)\n",
    "        # [print(' '.join(r)) for r in source]\n",
    "        # print(source)\n",
    "        total_score = 0\n",
    "        new_rows = []\n",
    "        for row in source:\n",
    "            out = falling_rocks(row)\n",
    "            new_rows.append(out)\n",
    "            # score = score_row(out)\n",
    "            # total_score += score\n",
    "    north_matrix = new_rows\n",
    "    # for j in range(i % 4):\n",
    "    north_matrix = rotate(north_matrix)\n",
    "    for row in north_matrix:\n",
    "        score = score_row(row)\n",
    "        total_score += score\n",
    "    scores.append(total_score)\n",
    "    # print(total_score)\n",
    "    # print(\"--At end\", i, total_score)\n",
    "    # [print(' '.join(r)) for r in new_rows]\n",
    "    source = new_rows"
   ]
  },
  {
   "cell_type": "code",
   "execution_count": 10,
   "metadata": {},
   "outputs": [
    {
     "name": "stdout",
     "output_type": "stream",
     "text": [
      "101038 499\n",
      "99044 101299\n",
      "-----\n"
     ]
    }
   ],
   "source": [
    "print(total_score, i)\n",
    "\n",
    "print(min(scores), max(scores))\n",
    "scoremap = {}\n",
    "print(\"-----\")\n",
    "for i, score in enumerate(scores):\n",
    "    if score not in scoremap:\n",
    "        scoremap[score] = []\n",
    "    scoremap[score].append(i)\n",
    "# [print(k, len(scoremap[k]), scoremap[k][-1] -(scoremap[k][-2] if len(scoremap[k]) > 1 else 0), scoremap[k]) for k in scoremap]\n"
   ]
  },
  {
   "cell_type": "code",
   "execution_count": 11,
   "metadata": {},
   "outputs": [
    {
     "name": "stdout",
     "output_type": "stream",
     "text": [
      "[101299, 101030, 100953, 100810, 100711, 100608, 100595, 100493, 100465, 100403, 100351, 100256, 100197, 100107, 100063, 99979, 99935, 99858, 99790, 99690, 99644, 99533, 99476, 99363, 99317, 99239, 99213, 99162, 99120, 99074, 99058, 99044, 99070, 99103, 99161, 99212, 99277, 99310, 99359, 99400, 99460, 99506, 99579, 99648, 99732, 99798, 99873, 99936, 100010, 100068, 100139, 100194, 100247, 100302, 100371, 100419, 100464, 100494, 100549, 100589, 100635, 100660, 100714, 100758, 100804, 100830, 100867, 100889, 100912, 100919, 100954, 100980, 101013, 101035, 101089, 101127, 101141, 101126, 101136, 101123, 101114, 101079, 101065, 101042, 101051, 101061, 101100, 101099, 101094, 101072, 101051, 101026, 101001] [100988, 101005, 100996, 101003, 101001, 101030, 101026, 101033, 101022, 101039, 101038, 101044, 101010, 101016, 101012, 101024, 101016, 101038, 101039, 101026, 101016, 101009, 100997, 101005, 100987, 101003, 101010, 101030, 101017, 101033, 101031, 101039, 101029, 101044, 101019, 101016, 101003, 101024, 101025, 101038, 101030, 101026, 101025, 101009]\n",
      "93 44\n",
      "101010\n"
     ]
    }
   ],
   "source": [
    "def findHalf(scores):\n",
    "    for i, score in enumerate(scores):\n",
    "        # find repeating patterns\n",
    "        if(i < 2):\n",
    "            continue\n",
    "        subscore = scores[0:i]\n",
    "        for j in range(0, i - 2):\n",
    "            for k in range(0,i-j):\n",
    "                offset = subscore[0:j+k]\n",
    "                pattern = subscore[j+k:]\n",
    "                if len(pattern) % 2 == 1: continue\n",
    "                # print(\"checking\", i, j ,k)\n",
    "                half = int(len(pattern) / 2)\n",
    "                # print(half)\n",
    "                patterna = pattern[0:half]\n",
    "                patternb = pattern[half:]\n",
    "                # print(patterna, patternb)\n",
    "                if(patterna == patternb):\n",
    "                    # print(\"Found repeating pattern\", patterna, offset)\n",
    "                    return offset, patterna\n",
    "    print(\"No repeating pattern\")\n",
    "\n",
    "offset, patterna = findHalf(scores)\n",
    "\n",
    "print(offset, patterna)\n",
    "print(len(offset), len(patterna))\n",
    "\n",
    "def findAt(scores, offset, patterna, target):\n",
    "    position = target - len(offset) -1\n",
    "    patternpos = position % len(patterna)\n",
    "    return patterna[patternpos]\n",
    "\n",
    "print(findAt(scores, offset, patterna, 1000000000))"
   ]
  }
 ],
 "metadata": {
  "kernelspec": {
   "display_name": "Python 3",
   "language": "python",
   "name": "python3"
  },
  "language_info": {
   "codemirror_mode": {
    "name": "ipython",
    "version": 3
   },
   "file_extension": ".py",
   "mimetype": "text/x-python",
   "name": "python",
   "nbconvert_exporter": "python",
   "pygments_lexer": "ipython3",
   "version": "3.11.4"
  }
 },
 "nbformat": 4,
 "nbformat_minor": 2
}
