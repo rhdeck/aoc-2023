{
 "cells": [
  {
   "cell_type": "code",
   "execution_count": 52,
   "metadata": {},
   "outputs": [
    {
     "name": "stdout",
     "output_type": "stream",
     "text": [
      "129 3999\n",
      "103 136\n"
     ]
    }
   ],
   "source": [
    "source = open(\"14.test.txt\").readlines()\n",
    "source = [list(line.strip()) for line in source]\n",
    "\n",
    "def rotate(a):\n",
    "    out = [[] for i in a[0]]\n",
    "    # print(out)\n",
    "    for i, row in enumerate(a):\n",
    "        # print(row)\n",
    "        for j, elem in enumerate(row):\n",
    "            # print(j, elem)\n",
    "            out[j].append(elem)\n",
    "    for row in out:\n",
    "        row.reverse()\n",
    "    return out\n",
    "\n",
    "\n",
    "\n",
    "def falling_rocks(row):\n",
    "    row_image = ''.join(row)\n",
    "    new_image = ''\n",
    "    while new_image != row_image:\n",
    "        row_image = new_image\n",
    "        for i in range(len(row)-1):\n",
    "            if row[i] == 'O' and row[i+1] == '.':\n",
    "                row[i] = '.'\n",
    "                row[i+1] = 'O'\n",
    "        new_image = ''.join(row)\n",
    "        # print(new_image, row_image)\n",
    "    return row\n",
    "\n",
    "def score_row(row):\n",
    "    score = 0\n",
    "    for i, elem in enumerate(row):\n",
    "        if elem == 'O':\n",
    "            score += i+1\n",
    "    return score\n",
    "scores = []\n",
    "for i in range(1000 * 4):\n",
    "    source = rotate(source) # Start with \"North\"\n",
    "    # print(\"----- New row\", i)\n",
    "    # print(\"--At start\", i)\n",
    "    # [print(' '.join(r)) for r in source]\n",
    "    # print(source)\n",
    "    total_score = 0\n",
    "    new_rows = []\n",
    "    for row in source:\n",
    "        out = falling_rocks(row)\n",
    "        new_rows.append(out)\n",
    "        # score = score_row(out)\n",
    "        # total_score += score\n",
    "    scores.append(total_score)\n",
    "    # print(total_score)\n",
    "    # print(\"--At end\", i, total_score)\n",
    "    # [print(' '.join(r)) for r in new_rows]\n",
    "    source = new_rows\n",
    "print(total_score, i)\n",
    "\n",
    "print(min(scores), max(scores))"
   ]
  }
 ],
 "metadata": {
  "kernelspec": {
   "display_name": "Python 3",
   "language": "python",
   "name": "python3"
  },
  "language_info": {
   "codemirror_mode": {
    "name": "ipython",
    "version": 3
   },
   "file_extension": ".py",
   "mimetype": "text/x-python",
   "name": "python",
   "nbconvert_exporter": "python",
   "pygments_lexer": "ipython3",
   "version": "3.11.4"
  }
 },
 "nbformat": 4,
 "nbformat_minor": 2
}
