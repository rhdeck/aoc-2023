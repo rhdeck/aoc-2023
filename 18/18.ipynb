{
 "cells": [
  {
   "cell_type": "code",
   "execution_count": 1,
   "metadata": {},
   "outputs": [],
   "source": [
    "instructions = [line.split(' ') for line in open('18.txt').read().split('\\n') if line != '']\n",
    "for x in instructions:\n",
    "    x[2] = x[2].strip('()#')\n",
    "    x[1] = int(x[1])\n",
    "# instructions\n"
   ]
  },
  {
   "cell_type": "markdown",
   "metadata": {},
   "source": [
    "# Part 1"
   ]
  },
  {
   "cell_type": "code",
   "execution_count": 2,
   "metadata": {},
   "outputs": [
    {
     "name": "stdout",
     "output_type": "stream",
     "text": [
      "52231\n"
     ]
    }
   ],
   "source": [
    "\n",
    "grid = {}\n",
    "position = (0, 0)\n",
    "for i in instructions:\n",
    "    direction, distance, color = i\n",
    "    for d in range(int(distance)):\n",
    "        if direction == 'U':\n",
    "            position = (position[0], position[1] - 1)\n",
    "        elif direction == 'D':\n",
    "            position = (position[0], position[1] + 1)\n",
    "        elif direction == 'L':\n",
    "            position = (position[0] - 1, position[1])\n",
    "        elif direction == 'R':\n",
    "            position = (position[0] + 1, position[1])\n",
    "       \n",
    "        grid[position] = color\n",
    "\n",
    "grid\n",
    "\n",
    "min_x = min([x[0] for x in grid.keys()])\n",
    "max_x = max([x[0] for x in grid.keys()])\n",
    "min_y = min([x[1] for x in grid.keys()])\n",
    "max_y = max([x[1] for x in grid.keys()])\n",
    "\n",
    "# print(min_x, max_x, min_y, max_y)\n",
    "starts = []\n",
    "for x in range (min_x, max_x + 1):\n",
    "    testPos = (x, min_y)\n",
    "    if(testPos not in grid):\n",
    "        grid[testPos] = '.'\n",
    "        starts.append(testPos)\n",
    "    testPos = (x, max_y)\n",
    "    if(testPos not in grid):\n",
    "        grid[testPos] = '.'\n",
    "        starts.append(testPos)\n",
    "for y in range (min_y, max_y + 1):\n",
    "    testPos = (min_x, y)\n",
    "    if(testPos not in grid):\n",
    "        grid[testPos] = '.'\n",
    "        starts.append(testPos)\n",
    "    testPos = (max_x, y)\n",
    "    if(testPos not in grid):\n",
    "        grid[testPos] = '.'\n",
    "        starts.append(testPos)\n",
    "\n",
    "while len(starts) > 0:\n",
    "    newStarts = []\n",
    "    for start in starts:\n",
    "        for direction in [(0, -1), (0, 1), (-1, 0), (1, 0)]:\n",
    "            testPos = (start[0] + direction[0], start[1] + direction[1])\n",
    "            if(testPos[0] < min_x or testPos[0] > max_x or testPos[1] < min_y or testPos[1] > max_y):\n",
    "                continue\n",
    "            if testPos not in grid:\n",
    "               \n",
    "                grid[testPos] = '.'\n",
    "                newStarts.append(testPos)\n",
    "    starts = newStarts\n",
    "\n",
    "gridSize =( max_x - min_x + 1 ) * (max_y - min_y + 1)\n",
    "\n",
    "empties = len([x for x in grid.values() if x == '.'])\n",
    "\n",
    "print(gridSize - empties)"
   ]
  },
  {
   "cell_type": "code",
   "execution_count": 3,
   "metadata": {},
   "outputs": [],
   "source": [
    "# for y in range(min_y, max_y + 1):\n",
    "    # for x in range(min_x, max_x + 1):\n",
    "        # print(\".\" if grid.get((x,y)) == '.' else ' ' if grid.get((x,y)) == None else 'x', end='')\n",
    "    # print()"
   ]
  },
  {
   "cell_type": "markdown",
   "metadata": {},
   "source": [
    "# Part 2\n",
    "\n",
    "## Make Lines out of instructions"
   ]
  },
  {
   "cell_type": "code",
   "execution_count": 4,
   "metadata": {},
   "outputs": [],
   "source": [
    "# convert hex code to directions and distance\n",
    "directions = [\"R\", \"D\", \"L\", \"U\"]\n",
    "newInstructions = []\n",
    "for x in instructions:\n",
    "    dir = directions[int(x[2][-1])]\n",
    "    distance = int(x[2][:-1], 16)\n",
    "    newInstructions.append([dir, distance, x[1]])\n",
    "    # print(dir, distance)\n",
    "    # x[2] = x[2].strip('()#')\n",
    "\n",
    "# def Hexadecimal(decimal):\n",
    "#     hexadecimal = int(str(decimal), 16)\n",
    "#     return hexadecimal\n",
    "# newInstructions \n",
    "\n",
    "def makeLines(instructions):\n",
    "    lines = []\n",
    "    origin = (0, 0)\n",
    "    for i in instructions:\n",
    "        direction, distance, color = i\n",
    "        oldOrigin = origin\n",
    "\n",
    "        if direction == 'U':\n",
    "            origin = (origin[0], origin[1] - distance)\n",
    "        elif direction == 'D':\n",
    "            origin = (origin[0], origin[1] + distance)\n",
    "        elif direction == 'L':\n",
    "            origin = (origin[0] - distance, origin[1])\n",
    "        elif direction == 'R':\n",
    "            origin = (origin[0] + distance, origin[1])\n",
    "        lines.append((oldOrigin, origin, direction, distance))\n",
    "    return  lines\n",
    "\n",
    "\n",
    "lines = makeLines(newInstructions)\n",
    "# lines"
   ]
  },
  {
   "cell_type": "code",
   "execution_count": 5,
   "metadata": {},
   "outputs": [],
   "source": [
    "points = []\n",
    "for line in lines:\n",
    "    points.append(list(line[1]))\n",
    "\n",
    "# points"
   ]
  },
  {
   "cell_type": "markdown",
   "metadata": {},
   "source": [
    "## Turn lines into points"
   ]
  },
  {
   "cell_type": "code",
   "execution_count": 6,
   "metadata": {},
   "outputs": [],
   "source": [
    "xs = [x[0] for x in points]\n",
    "ys = [x[1] for x in points]\n"
   ]
  },
  {
   "cell_type": "code",
   "execution_count": 7,
   "metadata": {},
   "outputs": [
    {
     "data": {
      "text/plain": [
       "57196422340460.0"
      ]
     },
     "execution_count": 7,
     "metadata": {},
     "output_type": "execute_result"
    }
   ],
   "source": [
    "def area_by_shoelace(x, y):\n",
    "    \"Assumes x,y points go around the polygon in one direction\"\n",
    "    return abs( sum((i* j) for i, j in zip(x,             y[1:] + y[:1]))\n",
    "               -sum(i * j for i, j in zip(x[1:] + x[:1], y            ))) / 2\n",
    "\n",
    "area_by_shoelace(xs, ys)"
   ]
  },
  {
   "cell_type": "markdown",
   "metadata": {},
   "source": [
    "## Calculate total bringing in perimeter  / 2 + 1"
   ]
  },
  {
   "cell_type": "code",
   "execution_count": 8,
   "metadata": {},
   "outputs": [
    {
     "name": "stdout",
     "output_type": "stream",
     "text": [
      "since linearea is 143193874 Half is  71596937.0 so total is  57196493937398.0\n"
     ]
    }
   ],
   "source": [
    "linearea = sum([x[3] for x in lines])\n",
    "\n",
    "print(\"since linearea is\", linearea, \"Half is \", linearea / 2 , \"so total is \", linearea / 2 + area_by_shoelace(xs, ys) + 1)"
   ]
  },
  {
   "cell_type": "markdown",
   "metadata": {},
   "source": [
    "# Bonus - alternative shoelace approache"
   ]
  },
  {
   "cell_type": "code",
   "execution_count": 9,
   "metadata": {},
   "outputs": [
    {
     "name": "stdout",
     "output_type": "stream",
     "text": [
      "57196422340460.0\n"
     ]
    }
   ],
   "source": [
    "\n",
    "import numpy as np\n",
    "# x,y are arrays containing coordinates of the polygon vertices\n",
    "# x=np.array([3,5,12,9,5]) \n",
    "x = np.array(xs)\n",
    "# y=np.array([4,11,8,5,6]) \n",
    "y = np.array(ys)\n",
    "i=np.arange(len(x))\n",
    "#Area=np.sum(x[i-1]*y[i]-x[i]*y[i-1])*0.5 # signed area, positive if the vertex sequence is counterclockwise\n",
    "Area=np.abs(np.sum(x[i-1]*(y[i]+1)-x[i]*(y[i-1]+1))*0.5) # one line of code for the shoelace formula\n",
    "print(Area)"
   ]
  }
 ],
 "metadata": {
  "kernelspec": {
   "display_name": "Python 3",
   "language": "python",
   "name": "python3"
  },
  "language_info": {
   "codemirror_mode": {
    "name": "ipython",
    "version": 3
   },
   "file_extension": ".py",
   "mimetype": "text/x-python",
   "name": "python",
   "nbconvert_exporter": "python",
   "pygments_lexer": "ipython3",
   "version": "3.11.4"
  }
 },
 "nbformat": 4,
 "nbformat_minor": 2
}
