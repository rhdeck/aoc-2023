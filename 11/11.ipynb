{
 "cells": [
  {
   "cell_type": "markdown",
   "metadata": {},
   "source": [
    "# Part 1"
   ]
  },
  {
   "cell_type": "code",
   "execution_count": 1,
   "metadata": {},
   "outputs": [
    {
     "data": {
      "text/plain": [
       "9647174"
      ]
     },
     "execution_count": 1,
     "metadata": {},
     "output_type": "execute_result"
    }
   ],
   "source": [
    "source = open('11.txt').readlines()\n",
    "source = [list(x.strip()) for x in source]\n",
    "galaxies = []\n",
    "for y, row in enumerate(source):\n",
    "    for x, cell in enumerate(row):\n",
    "        if cell == '#':\n",
    "            galaxies.append((x, y))\n",
    "\n",
    "empty_rows = set(range(0, len(source))) - set([x[1] for x in galaxies])\n",
    "empty_columns = set(range(0, len(source[0]))) - set([x[0] for x in galaxies])\n",
    "empty_columns = list(empty_columns)\n",
    "empty_columns.sort()\n",
    "empty_columns.reverse()\n",
    "for i, r in enumerate(source): \n",
    "    for c in empty_columns:\n",
    "        r.insert(c, \"|\")\n",
    "    \n",
    "empty_row = [\"-\" for _ in range(len(source[0]))]\n",
    "\n",
    "for i in range(len(source)-1, -1, -1):\n",
    "    if i in empty_rows:\n",
    "        source.insert(i+1, empty_row)\n",
    "\n",
    "def print_map(m):\n",
    "    for row in m:\n",
    "        print(\"\".join(row))\n",
    "\n",
    "def distance(g1, g2):\n",
    "    dx = abs(g1[0] - g2[0]) \n",
    "    dy= abs(g1[1] - g2[1])\n",
    "    return dy + dx\n",
    "\n",
    "galaxies = []\n",
    "for y, row in enumerate(source):\n",
    "    for x, cell in enumerate(row):\n",
    "        if cell == '#':\n",
    "            galaxies.append((x, y))\n",
    "\n",
    "pairs = []\n",
    "for i, g1 in enumerate(galaxies):\n",
    "    for g2 in galaxies[i+1:]:\n",
    "        pairs.append((g1, g2))\n",
    "\n",
    "distances = [(pair, distance(*pair)) for pair in pairs]\n",
    "\n",
    "sum([x[1] for x in distances])"
   ]
  },
  {
   "cell_type": "markdown",
   "metadata": {},
   "source": [
    "# Part 2\n",
    "Start from scratch "
   ]
  },
  {
   "cell_type": "code",
   "execution_count": 2,
   "metadata": {},
   "outputs": [
    {
     "data": {
      "text/plain": [
       "377318892554"
      ]
     },
     "execution_count": 2,
     "metadata": {},
     "output_type": "execute_result"
    }
   ],
   "source": [
    "source = open('11.txt').readlines()\n",
    "source = [list(x.strip()) for x in source]\n",
    "galaxies = []\n",
    "for y, row in enumerate(source):\n",
    "    for x, cell in enumerate(row):\n",
    "        if cell == '#':\n",
    "            galaxies.append((x, y))\n",
    "empty_rows = set(range(0, len(source))) - set([x[1] for x in galaxies])\n",
    "\n",
    "empty_columns = set(range(0, len(source[0]))) - set([x[0] for x in galaxies])\n",
    "empty_columns = list(empty_columns)\n",
    "\n",
    "def emptyColumns(g1,g2):\n",
    "    emptyCount = 0\n",
    "    for emptySpace in empty_columns:\n",
    "        if g1[0] < emptySpace < g2[0] or g2[0] < emptySpace < g1[0]:\n",
    "            emptyCount += 1\n",
    "    return emptyCount\n",
    "\n",
    "def emptyRows(g1,g2):\n",
    "    emptyCount = 0\n",
    "    for emptySpace in empty_rows:\n",
    "        if g1[1] < emptySpace < g2[1] or g2[1] < emptySpace < g1[1]:\n",
    "            emptyCount += 1\n",
    "    return emptyCount\n",
    "def distance(g1, g2, expansion = 1000000):\n",
    "    dx = abs(g1[0] - g2[0]) + emptyColumns(g1,g2) * (expansion - 1)\n",
    "    dy= abs(g1[1] - g2[1]) + emptyRows(g1,g2) * (expansion - 1)\n",
    "    return dy + dx\n",
    "pairs = []\n",
    "for i, g1 in enumerate(galaxies):\n",
    "    for g2 in galaxies[i+1:]:\n",
    "        pairs.append((g1, g2))\n",
    "    \n",
    "distances = [(pair, distance(*pair, 1_000_000)) for pair in pairs]\n",
    "\n",
    "sum([x[1] for x in distances])"
   ]
  }
 ],
 "metadata": {
  "kernelspec": {
   "display_name": "Python 3",
   "language": "python",
   "name": "python3"
  },
  "language_info": {
   "codemirror_mode": {
    "name": "ipython",
    "version": 3
   },
   "file_extension": ".py",
   "mimetype": "text/x-python",
   "name": "python",
   "nbconvert_exporter": "python",
   "pygments_lexer": "ipython3",
   "version": "3.11.4"
  }
 },
 "nbformat": 4,
 "nbformat_minor": 2
}
