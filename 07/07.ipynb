{
 "cells": [
  {
   "cell_type": "code",
   "execution_count": 1,
   "metadata": {},
   "outputs": [],
   "source": [
    "rank_string = \"A, K, Q, J, T, 9, 8, 7, 6, 5, 4, 3, 2, X\"\n",
    "rank_list = rank_string.split(\", \")\n",
    "rank_list.reverse()\n",
    "rank_list\n",
    "# make lookups of sorted_ranks to index\n",
    "rank_lookup = {rank: idx for idx, rank in enumerate(rank_list)}\n",
    "rank_lookup\n",
    "\n",
    "def score_high_hand(hand_string):\n",
    "    hand = list(hand_string)\n",
    "    # get the sorted_ranks and suits\n",
    "    ranks = [rank_lookup[card] for card in hand]\n",
    "    sorted_ranks = ranks.copy()\n",
    "    sorted_ranks.sort()\n",
    "    score = 0\n",
    "    if(sorted_ranks[0] == sorted_ranks[4]): \n",
    "        score = 70\n",
    "    elif(sorted_ranks[0] == sorted_ranks[3] or sorted_ranks[1] == sorted_ranks[4]): \n",
    "        score = 60\n",
    "    else:\n",
    "        if(sorted_ranks[0] == sorted_ranks[2] or sorted_ranks[1] == sorted_ranks[3] or sorted_ranks[2] == sorted_ranks[4]): score = 30\n",
    "        for  i in range(4):\n",
    "            if(sorted_ranks[i] == sorted_ranks[i+1] and (i == 3 or sorted_ranks[i+2] != sorted_ranks[i])): score += 10\n",
    "    return score\n",
    "\n",
    "def score_low_hand(hand_string):\n",
    "    hand = list(hand_string)\n",
    "    # get the sorted_ranks and suits\n",
    "    ranks = [rank_lookup[card] for card in hand]\n",
    "    sorted_ranks = ranks.copy()\n",
    "    sorted_ranks.sort()\n",
    "    score = 0\n",
    "    for index, card in enumerate(ranks):\n",
    "        card_score =  card * pow(len(rank_list), -1 *(index+1))\n",
    "        score += card_score\n",
    "    return score\n",
    "\n",
    "def score_hand(hand_string):\n",
    "    return score_high_hand(hand_string) + score_low_hand(hand_string)"
   ]
  },
  {
   "cell_type": "markdown",
   "metadata": {},
   "source": [
    "# Part 1"
   ]
  },
  {
   "cell_type": "code",
   "execution_count": 9,
   "metadata": {},
   "outputs": [
    {
     "data": {
      "text/plain": [
       "253995656"
      ]
     },
     "execution_count": 9,
     "metadata": {},
     "output_type": "execute_result"
    }
   ],
   "source": [
    "lines = open(\"07.txt\").read().split(\"\\n\")\n",
    "tuples = [line.split(' ') for line in lines]\n",
    "tuples = [(t[0], int(t[1]), score_hand(t[0])) for t in tuples]\n",
    "tuples.sort(key=lambda x: x[2])\n",
    "scores = []\n",
    "for index, t in enumerate(tuples):\n",
    "    score = (index + 1) * t[1]\n",
    "    scores.append(score)\n",
    "    \n",
    "sum(scores)"
   ]
  },
  {
   "cell_type": "markdown",
   "metadata": {},
   "source": [
    "# Part 2"
   ]
  },
  {
   "cell_type": "code",
   "execution_count": 7,
   "metadata": {},
   "outputs": [],
   "source": [
    "def score_hand_with_jokers(hand_string):\n",
    "    hand = list(hand_string)\n",
    "    if hand.count('J') == 0: return score_hand(hand_string)\n",
    "    letters = set([x for x in hand if x != 'J'])\n",
    "    if(len(letters) == 0): return score_high_hand(hand_string) + score_low_hand(hand_string)\n",
    "    high_score = max([score_high_hand(hand_string.replace('J', letter)) for letter in letters])\n",
    "    return high_score + score_low_hand(hand_string)"
   ]
  },
  {
   "cell_type": "code",
   "execution_count": 8,
   "metadata": {},
   "outputs": [
    {
     "data": {
      "text/plain": [
       "254115617"
      ]
     },
     "execution_count": 8,
     "metadata": {},
     "output_type": "execute_result"
    }
   ],
   "source": [
    "lines = open(\"07.txt\").read().split(\"\\n\")\n",
    "rank_lookup['J'] = 0\n",
    "tuples = [line.split(' ') for line in lines]\n",
    "tuples = [(t[0], int(t[1]), score_hand_with_jokers(t[0])) for t in tuples]\n",
    "tuples.sort(key=lambda x: x[2])\n",
    "scores = []\n",
    "for index, t in enumerate(tuples):\n",
    "    score = (index + 1) * t[1]\n",
    "    scores.append(score)\n",
    "sum(scores)"
   ]
  }
 ],
 "metadata": {
  "kernelspec": {
   "display_name": "Python 3",
   "language": "python",
   "name": "python3"
  },
  "language_info": {
   "codemirror_mode": {
    "name": "ipython",
    "version": 3
   },
   "file_extension": ".py",
   "mimetype": "text/x-python",
   "name": "python",
   "nbconvert_exporter": "python",
   "pygments_lexer": "ipython3",
   "version": "3.11.4"
  }
 },
 "nbformat": 4,
 "nbformat_minor": 2
}
