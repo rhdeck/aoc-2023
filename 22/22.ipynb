{
 "cells": [
  {
   "cell_type": "code",
   "execution_count": 1,
   "metadata": {},
   "outputs": [],
   "source": [
    "bricks = [[[int(z) for z in y.split(',')] for y in x.split('~')] for x in open('22.txt').read().split('\\n')]"
   ]
  },
  {
   "cell_type": "code",
   "execution_count": 2,
   "metadata": {},
   "outputs": [],
   "source": [
    "def overlaps(a,b):\n",
    "    return a[0] <= b[1] and b[0] <= a[1]\n",
    "\n",
    "def xyoverlap(a, b):\n",
    "    return overlaps((a[0][0], a[1][0]), (b[0][0], b[1][0])) and overlaps((a[0][1], a[1][1]), (b[0][1], b[1][1]))\n",
    "\n",
    "def isResting(brick, bricks):\n",
    "    brickLinks = []\n",
    "    brickLinksUp = []\n",
    "    retval = False\n",
    "    skipDowns = False\n",
    "    if brick[0][2] == 0 or brick[1][2] == 0:\n",
    "        skipDowns = True\n",
    "        retval = True\n",
    "    for b in bricks:\n",
    "        if b[0] == brick[0]:\n",
    "            continue\n",
    "        if not skipDowns :\n",
    "            if max(b[0][2], b[1][2]) == min(brick[0][2], brick[1][2]) - 1:\n",
    "                if(xyoverlap(brick, b)):\n",
    "                    retval = True\n",
    "                    brickLinks.append(str(b))\n",
    "        if min(b[0][2], b[1][2]) == max(brick[0][2], brick[1][2]) + 1:\n",
    "            if(xyoverlap(brick, b)):\n",
    "                brickLinksUp.append(str(b))\n",
    "    return retval, brickLinks, brickLinksUp\n",
    "\n",
    "def settleBricks(bricks):\n",
    "    didMove = True\n",
    "    movedBricks = {}\n",
    "    while didMove:\n",
    "        didMove = False\n",
    "        for i, brick in enumerate(bricks):\n",
    "            resting, downs , ups= isResting(brick, bricks)\n",
    "            if not resting:\n",
    "                brick[0][2] -=1\n",
    "                brick[1][2] -=1\n",
    "                if(i not in movedBricks):\n",
    "                    movedBricks[i] = 1\n",
    "                else:\n",
    "                    movedBricks[i] += 1\n",
    "                didMove = True\n",
    "    return bricks, movedBricks"
   ]
  },
  {
   "cell_type": "markdown",
   "metadata": {},
   "source": [
    "# Part 0 - Settling the bricks"
   ]
  },
  {
   "cell_type": "code",
   "execution_count": 3,
   "metadata": {},
   "outputs": [],
   "source": [
    "theseBricks, movedBricks = settleBricks(bricks)\n",
    "# theseBricks"
   ]
  },
  {
   "cell_type": "markdown",
   "metadata": {},
   "source": [
    "# Part 1"
   ]
  },
  {
   "cell_type": "code",
   "execution_count": 4,
   "metadata": {},
   "outputs": [
    {
     "name": "stdout",
     "output_type": "stream",
     "text": [
      "....................................................................................................100 / 1222\n",
      "....................................................................................................200 / 1222\n",
      "....................................................................................................300 / 1222\n",
      "....................................................................................................400 / 1222\n",
      "....................................................................................................500 / 1222\n",
      "....................................................................................................600 / 1222\n",
      "....................................................................................................700 / 1222\n",
      "....................................................................................................800 / 1222\n",
      "....................................................................................................900 / 1222\n",
      "....................................................................................................1000 / 1222\n",
      "....................................................................................................1100 / 1222\n",
      "....................................................................................................1200 / 1222\n",
      "......................1222 Done\n"
     ]
    },
    {
     "data": {
      "text/plain": [
       "413"
      ]
     },
     "execution_count": 4,
     "metadata": {},
     "output_type": "execute_result"
    }
   ],
   "source": [
    "killBricks = []\n",
    "dependencies = {}\n",
    "brickmap = {}\n",
    "brickupmap = {}\n",
    "for i, brick in enumerate(theseBricks):\n",
    "    tempBricks = theseBricks.copy()\n",
    "    tempBricks.remove(brick)\n",
    "    _, downs, ups = isResting(brick, tempBricks)\n",
    "    print(\".\", end=\"\")\n",
    "    if((i +1) % 100 == 0): print(i+1, \"/\", len(theseBricks))\n",
    "    brickmap[str(brick)] = downs\n",
    "    brickupmap[str(brick)] = ups\n",
    "    resting = True\n",
    "    for b in tempBricks:    \n",
    "        r, _, _ = isResting(b, tempBricks)\n",
    "        if not r:\n",
    "            resting = False\n",
    "            if str(brick) not in dependencies: dependencies[str(brick)] = []\n",
    "            dependencies[str(brick)].append(str(b))\n",
    "    if resting:\n",
    "        killBricks.append(str(brick))\n",
    "print(len(theseBricks), \"Done\")\n",
    "len(killBricks)"
   ]
  },
  {
   "cell_type": "markdown",
   "metadata": {},
   "source": []
  },
  {
   "cell_type": "markdown",
   "metadata": {},
   "source": [
    "# Part 2"
   ]
  },
  {
   "cell_type": "code",
   "execution_count": 5,
   "metadata": {},
   "outputs": [
    {
     "name": "stdout",
     "output_type": "stream",
     "text": [
      "....................................................................................................100 / 1222\n",
      "....................................................................................................200 / 1222\n",
      "....................................................................................................300 / 1222\n",
      "....................................................................................................400 / 1222\n",
      "....................................................................................................500 / 1222\n",
      "....................................................................................................600 / 1222\n",
      "....................................................................................................700 / 1222\n",
      "....................................................................................................800 / 1222\n",
      "....................................................................................................900 / 1222\n",
      "....................................................................................................1000 / 1222\n",
      "....................................................................................................1100 / 1222\n",
      "....................................................................................................1200 / 1222\n",
      "......................1222 Done\n"
     ]
    },
    {
     "data": {
      "text/plain": [
       "41610"
      ]
     },
     "execution_count": 5,
     "metadata": {},
     "output_type": "execute_result"
    }
   ],
   "source": [
    "dependencies\n",
    "counter = 0\n",
    "for i, brick in enumerate(theseBricks):\n",
    "    print(\".\", end=\"\")\n",
    "    if((i +1) % 100 == 0): print(i+1, \"/\", len(theseBricks))\n",
    "    key = str(brick)\n",
    "    if key in killBricks: continue\n",
    "    drops= {}\n",
    "    supports = {str(brick): 1}\n",
    "    todos = []\n",
    "\n",
    "    for k in dependencies[key]:\n",
    "        drops[k] = 1\n",
    "        supports[k] = 1\n",
    "        todos.append(k)\n",
    "    while len(todos) > 0:\n",
    "        newTodos = todos.copy()\n",
    "        for todo in todos:\n",
    "            bs = brickupmap[todo]\n",
    "            for b in bs:\n",
    "                if(set(brickmap[b]) & set(supports.keys()) == set(brickmap[b])):\n",
    "                    if(b not in supports):\n",
    "                        supports[b] = 1\n",
    "                        drops[b] = 1\n",
    "                        newTodos.append(b)\n",
    "        if(len(newTodos) == len(todos)): break\n",
    "        todos = newTodos    \n",
    "    counter += len(drops)\n",
    "\n",
    "print(len(theseBricks), \"Done\")\n",
    "counter"
   ]
  }
 ],
 "metadata": {
  "kernelspec": {
   "display_name": "Python 3",
   "language": "python",
   "name": "python3"
  },
  "language_info": {
   "codemirror_mode": {
    "name": "ipython",
    "version": 3
   },
   "file_extension": ".py",
   "mimetype": "text/x-python",
   "name": "python",
   "nbconvert_exporter": "python",
   "pygments_lexer": "ipython3",
   "version": "3.11.4"
  }
 },
 "nbformat": 4,
 "nbformat_minor": 2
}
