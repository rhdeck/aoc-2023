{
 "cells": [
  {
   "cell_type": "markdown",
   "metadata": {},
   "source": [
    "# Part 1"
   ]
  },
  {
   "cell_type": "code",
   "execution_count": 1,
   "metadata": {},
   "outputs": [
    {
     "data": {
      "text/plain": [
       "8075"
      ]
     },
     "execution_count": 1,
     "metadata": {},
     "output_type": "execute_result"
    }
   ],
   "source": [
    "import re\n",
    "\n",
    "source = open('12.txt').readlines()\n",
    "lines = [x.strip().split(' ') for x in source]\n",
    "\n",
    "def score_line(line):\n",
    "    matches = re.findall(\"#+\", line)\n",
    "    if matches != None:\n",
    "        score = [str(len(match)) for match in matches]\n",
    "        return ','.join(score)\n",
    "    else:\n",
    "        return ''\n",
    "\n",
    "line_matches = []\n",
    "tests = 0\n",
    "modifications = 0\n",
    "for line in lines:\n",
    "    qs = [i for i, x in enumerate(line[0]) if x == '?']\n",
    "    matches = 0\n",
    "    base = list(line[0])\n",
    "    for masks in range(0, 2**len(qs)+1):\n",
    "        test = base.copy()\n",
    "        for i, q in enumerate(qs):\n",
    "            if((masks & 2**i) > 0):\n",
    "                test[q] = '#'\n",
    "                modifications += 1\n",
    "        score = score_line(''.join(test))\n",
    "        tests += 1\n",
    "        if(score == line[1]):\n",
    "            matches += 1\n",
    "    line_matches.append(matches)\n",
    "sum(line_matches)"
   ]
  },
  {
   "cell_type": "markdown",
   "metadata": {},
   "source": [
    "# Part 2"
   ]
  },
  {
   "cell_type": "markdown",
   "metadata": {},
   "source": [
    "## Make the five-x lines"
   ]
  },
  {
   "cell_type": "code",
   "execution_count": 2,
   "metadata": {},
   "outputs": [],
   "source": [
    "import re\n",
    "fivelines = []\n",
    "for line in lines:\n",
    "    source, target = line\n",
    "    newsource = []\n",
    "    newtarget = []\n",
    "    for i in range(5):\n",
    "        newsource.append(source)\n",
    "        newtarget.append(target)\n",
    "    outsource = '?'.join(newsource)\n",
    "    outtarget = ','.join(newtarget)\n",
    "    fivelines.append((outsource, outtarget))"
   ]
  },
  {
   "cell_type": "markdown",
   "metadata": {},
   "source": [
    "## Define functions for analyzing positions, using a cache to memoize old position fetches"
   ]
  },
  {
   "cell_type": "code",
   "execution_count": 3,
   "metadata": {},
   "outputs": [],
   "source": [
    "def line_combos(mask, scores):\n",
    "    masklen = len(mask)\n",
    "    maskMinDistance = (sum(scores) + len(scores)-1 - scores[-1])\n",
    "    maxStart = masklen - maskMinDistance\n",
    "    # grab the last score\n",
    "    lastScore = scores[-1]\n",
    "    # figure out the maximum start point\n",
    "    pos = masklen - lastScore+1\n",
    "    remask = \"^[\\?\\.][#\\?]{\"+str(lastScore)+\"}[\\?\\.]*$\"\n",
    "    startPrefix = \"^[\\?\\.]*\"\n",
    "    positions = []\n",
    "    for  i in range(pos, maskMinDistance-2, -1):\n",
    "\n",
    "        match =  mask[i:]\n",
    "        if re.match(remask, match):\n",
    "            if(len(scores) == 1):\n",
    "                startRemask = \"^\" + \"[\\?\\.]{\"+str(i+1)+\"}\" +remask[7:]\n",
    "                # print(\"Checking again because this is the beginning\", startRemask, mask, re.match(startRemask, match))\n",
    "                if re.match(startRemask, mask) == None:\n",
    "                    # print(\"not a start\", mask, i)\n",
    "                    continue\n",
    "            # print(\"match\", match, i)\n",
    "            positions.append(i)\n",
    "        # else:\n",
    "            # if i == 0:\n",
    "                # print(\"no match\", match, i)\n",
    "    return positions, maxStart, maskMinDistance, masklen\n",
    "\n",
    "line_cache = {}\n",
    "cache_hits = 0\n",
    "def score_big_line(mask, scores):\n",
    "    if(line_cache.get(mask + str(scores)) != None):\n",
    "        # print(\"Using Cache!!!\")\n",
    "        # cache_hits = cache_hits + 1\n",
    "        return line_cache[mask + str(scores)]\n",
    "    ret = line_combos(mask, scores)\n",
    "    # if ret == None: \n",
    "    #     print(\"No combos\")\n",
    "    #     return 0\n",
    "    output = 0\n",
    "    for start in ret[0]:\n",
    "        shorter_mask = mask[0: start] + \".\"\n",
    "        shorter_score = scores[0:-1] \n",
    "        if len(shorter_score) == 0:\n",
    "            output += 1\n",
    "        else:\n",
    "            output += score_big_line(shorter_mask, shorter_score)\n",
    "    line_cache[mask + str(scores)] = output\n",
    "    return output"
   ]
  },
  {
   "cell_type": "markdown",
   "metadata": {},
   "source": [
    "## Re-implementing part 1 using the new technique. "
   ]
  },
  {
   "cell_type": "code",
   "execution_count": 4,
   "metadata": {},
   "outputs": [
    {
     "data": {
      "text/plain": [
       "8075"
      ]
     },
     "execution_count": 4,
     "metadata": {},
     "output_type": "execute_result"
    }
   ],
   "source": [
    "results = []\n",
    "for testIndex, testLine in enumerate(lines):\n",
    "    result = score_big_line(\".\" + testLine[0],[int(x) for x in testLine[1].split(',')]\n",
    "    )\n",
    "    # print(testIndex, \"combos\",result, line_matches[testIndex], result == line_matches[testIndex] )\n",
    "    results.append(result)\n",
    "sum(results)"
   ]
  },
  {
   "cell_type": "markdown",
   "metadata": {},
   "source": [
    "## Test to see if the two techniques generate different results"
   ]
  },
  {
   "cell_type": "code",
   "execution_count": 5,
   "metadata": {},
   "outputs": [],
   "source": [
    "for(i, line) in enumerate(lines):\n",
    "    if results[i] != line_matches[i]:\n",
    "        print(\"No match\", i, line, results[i], line_matches[i])"
   ]
  },
  {
   "cell_type": "markdown",
   "metadata": {},
   "source": [
    "## Output using 5x lines"
   ]
  },
  {
   "cell_type": "code",
   "execution_count": 6,
   "metadata": {},
   "outputs": [
    {
     "data": {
      "text/plain": [
       "4232520187524"
      ]
     },
     "execution_count": 6,
     "metadata": {},
     "output_type": "execute_result"
    }
   ],
   "source": [
    "cache_hits = 0\n",
    "results = []\n",
    "fivetargets = [\n",
    "    1,16384,1,16,2500,506250\n",
    "]\n",
    "for testIndex, testLine in enumerate(fivelines):\n",
    "    # print(\"line \" + str(testIndex), testLine)\n",
    "    result = score_big_line(\".\" + testLine[0],[int(x) for x in testLine[1].split(',')]\n",
    "    )\n",
    "    # print(testIndex, \"combos\",result )\n",
    "    results.append(result)\n",
    "sum(results)"
   ]
  }
 ],
 "metadata": {
  "kernelspec": {
   "display_name": "Python 3",
   "language": "python",
   "name": "python3"
  },
  "language_info": {
   "codemirror_mode": {
    "name": "ipython",
    "version": 3
   },
   "file_extension": ".py",
   "mimetype": "text/x-python",
   "name": "python",
   "nbconvert_exporter": "python",
   "pygments_lexer": "ipython3",
   "version": "3.11.4"
  }
 },
 "nbformat": 4,
 "nbformat_minor": 2
}
