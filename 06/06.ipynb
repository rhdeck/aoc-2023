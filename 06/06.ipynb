{
 "cells": [
  {
   "cell_type": "markdown",
   "metadata": {},
   "source": [
    "# Part 1\n",
    "\n",
    "Use a dataframe and transpose it. Fun times. "
   ]
  },
  {
   "cell_type": "code",
   "execution_count": 69,
   "metadata": {},
   "outputs": [
    {
     "data": {
      "text/plain": [
       "500346"
      ]
     },
     "execution_count": 69,
     "metadata": {},
     "output_type": "execute_result"
    }
   ],
   "source": [
    "from pandas import read_fwf\n",
    "import math\n",
    "import numpy as np\n",
    "\n",
    "df = read_fwf(\"06.txt\", header=None)\n",
    "df.columns = [\"label\"] + [f\"race{i}\" for i in range(1, len(df.values[0]))]\n",
    "df = df.transpose()\n",
    "df.columns = df.iloc[0]\n",
    "df = df.drop(index=\"label\")  # remove first row\n",
    "ways = []\n",
    "for  label, series in df.iterrows() :\n",
    "    length = series['Time:']\n",
    "    record = series['Distance:']\n",
    "    min = math.ceil(((length * -1  + pow(length * length - 4 * record, 0.5)) / -2)+.0001)\n",
    "    max = math.floor(((length * -1  - pow(length * length - 4 * record, 0.5)) / -2)-.0001)\n",
    "    ways_to_win = max - min + 1\n",
    "    ways.append(ways_to_win)\n",
    "    # print(df[row].value_counts().idxmax(), end=\"\")\n",
    "np.array(ways).prod()"
   ]
  },
  {
   "cell_type": "markdown",
   "metadata": {},
   "source": [
    "# Part 2\n",
    "\n",
    "Requires looking at the data fresh since its not a dataframe anymore"
   ]
  },
  {
   "cell_type": "code",
   "execution_count": 70,
   "metadata": {},
   "outputs": [
    {
     "data": {
      "text/plain": [
       "42515755"
      ]
     },
     "execution_count": 70,
     "metadata": {},
     "output_type": "execute_result"
    }
   ],
   "source": [
    "source = open(\"06.txt\", \"r\")\n",
    "time,distance = source.readlines()\n",
    "length = int(time.split(\":\")[1].replace(' ', ''))\n",
    "record = int(distance.split(\":\")[1].replace(' ', ''))\n",
    "min = math.ceil(((length * -1  + pow(length * length - 4 * record, 0.5)) / -2)+.0001)\n",
    "max = math.floor(((length * -1  - pow(length * length - 4 * record, 0.5)) / -2)-.0001)\n",
    "ways_to_win = max - min + 1\n",
    "ways_to_win"
   ]
  }
 ],
 "metadata": {
  "kernelspec": {
   "display_name": "Python 3",
   "language": "python",
   "name": "python3"
  },
  "language_info": {
   "codemirror_mode": {
    "name": "ipython",
    "version": 3
   },
   "file_extension": ".py",
   "mimetype": "text/x-python",
   "name": "python",
   "nbconvert_exporter": "python",
   "pygments_lexer": "ipython3",
   "version": "3.11.4"
  }
 },
 "nbformat": 4,
 "nbformat_minor": 2
}
