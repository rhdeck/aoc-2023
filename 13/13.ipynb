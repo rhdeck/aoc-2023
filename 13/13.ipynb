{
 "cells": [
  {
   "cell_type": "code",
   "execution_count": 10,
   "metadata": {},
   "outputs": [],
   "source": [
    "def bruteForceMirror(line):\n",
    "    for position in range(len(line)):\n",
    "        if line[0:position] == line[position:-1]:\n",
    "            return position\n",
    "    return len(line)/2\n",
    "# print(bruteForceMirror(\"abba\"))\n"
   ]
  },
  {
   "cell_type": "markdown",
   "metadata": {},
   "source": [
    "# Part 1"
   ]
  },
  {
   "cell_type": "code",
   "execution_count": 11,
   "metadata": {},
   "outputs": [
    {
     "name": "stdout",
     "output_type": "stream",
     "text": [
      "Total Score: 41859\n"
     ]
    }
   ],
   "source": [
    "import numpy as np\n",
    "source = open('13.txt').read()\n",
    "maps = [[[1 if c == \"#\" else 0 for c in np.array(list(r))] for r in x.split('\\n')] for x in source.split('\\n\\n')]\n",
    "def analyzeMap(map):\n",
    "    scores = []\n",
    "    for line in map:\n",
    "        score = sum([2**i * c for i, c in enumerate(line)])\n",
    "        scores.append(score)\n",
    "    mirrorpoint = 0\n",
    "    for i, score in enumerate(scores):\n",
    "        if(i == 0): continue\n",
    "        if i > len(map)/2:\n",
    "            # count from end\n",
    "            subscores = scores[i:]\n",
    "            beforescores = scores[i - len(subscores):i]\n",
    "            beforescores.reverse()\n",
    "            if beforescores == subscores:\n",
    "                mirrorpoint = i\n",
    "                return i\n",
    "                break\n",
    "        else:\n",
    "            # count from start\n",
    "            subscores = scores[:i]\n",
    "            afterscores = scores[i:i+len(subscores)]\n",
    "            afterscores.reverse()\n",
    "            if afterscores == subscores:\n",
    "                mirrorpoint = i\n",
    "                return i\n",
    "                break\n",
    "    return 0\n",
    "totalScore = 0\n",
    "for i, map in enumerate(maps):\n",
    "    #look horizontally\n",
    "    score = analyzeMap(map)\n",
    "    if(score > 0) : \n",
    "        totalScore += ((score) * 100)\n",
    "    else:\n",
    "        map = np.transpose(map)\n",
    "        score = analyzeMap(map)\n",
    "        if(score > 0): \n",
    "            totalScore += (score)\n",
    "print(\"Total Score:\" , totalScore)"
   ]
  },
  {
   "cell_type": "markdown",
   "metadata": {},
   "source": [
    "# Part 2"
   ]
  },
  {
   "cell_type": "code",
   "execution_count": 12,
   "metadata": {},
   "outputs": [
    {
     "name": "stdout",
     "output_type": "stream",
     "text": [
      "Total Score: 30842\n"
     ]
    },
    {
     "name": "stderr",
     "output_type": "stream",
     "text": [
      "/var/folders/tx/35nqkv4575q052rm2d7mgc180000gn/T/ipykernel_40722/1546504914.py:29: RuntimeWarning: overflow encountered in scalar multiply\n",
      "  subscore = int(sum([2**(i*(len(map[0])+1)) * c for i, c in enumerate(subscores)]))\n",
      "/var/folders/tx/35nqkv4575q052rm2d7mgc180000gn/T/ipykernel_40722/1546504914.py:30: RuntimeWarning: overflow encountered in scalar multiply\n",
      "  afterscore = int(sum([2**(i*(len(map[0])+1)) * c for i, c in enumerate(afterscores)]))\n",
      "/var/folders/tx/35nqkv4575q052rm2d7mgc180000gn/T/ipykernel_40722/1546504914.py:16: RuntimeWarning: overflow encountered in scalar multiply\n",
      "  subscore = int(sum([2**(i*(len(map[0])+1)) * c for i, c in enumerate(subscores)]))\n",
      "/var/folders/tx/35nqkv4575q052rm2d7mgc180000gn/T/ipykernel_40722/1546504914.py:17: RuntimeWarning: overflow encountered in scalar multiply\n",
      "  beforescore = int(sum([2**(i*(len(map[0])+1)) * c for i, c in enumerate(beforescores)]))\n"
     ]
    }
   ],
   "source": [
    "import math\n",
    "\n",
    "def findNewAxis(map):\n",
    "    scores = []\n",
    "    for line in map:\n",
    "        score = sum([2**i * c for i, c in enumerate(line)])\n",
    "        scores.append(score)\n",
    "    mirrorpoint = 0\n",
    "    for i, score in enumerate(scores):\n",
    "        if(i == 0): continue\n",
    "        if i > len(map)/2:\n",
    "            # count from end\n",
    "            subscores = scores[i:]\n",
    "            beforescores = scores[i - len(subscores):i]\n",
    "            beforescores.reverse()\n",
    "            subscore = int(sum([2**(i*(len(map[0])+1)) * c for i, c in enumerate(subscores)]))\n",
    "            beforescore = int(sum([2**(i*(len(map[0])+1)) * c for i, c in enumerate(beforescores)]))\n",
    "            difference = abs(subscore ^ beforescore)\n",
    "            if(difference > 0):\n",
    "                logdiff = sum([int(x) for x in list(format(difference, 'b'))])\n",
    "                if logdiff == 1:\n",
    "                    return i\n",
    "                    break\n",
    "        else:\n",
    "            # count from start\n",
    "            subscores = scores[:i]\n",
    "            afterscores = scores[i:i+len(subscores)]\n",
    "            afterscores.reverse()\n",
    "            subscore = int(sum([2**(i*(len(map[0])+1)) * c for i, c in enumerate(subscores)]))\n",
    "            afterscore = int(sum([2**(i*(len(map[0])+1)) * c for i, c in enumerate(afterscores)]))\n",
    "            difference = (subscore ^ afterscore)\n",
    "            if(difference > 0):\n",
    "                logdiff = sum([int(x) for x in list(format(difference, 'b'))])\n",
    "                if logdiff == 1:\n",
    "                    return i\n",
    "                    break\n",
    "    return 0\n",
    "\n",
    "totalScore = 0\n",
    "for i, map in enumerate(maps):\n",
    "    #look horizontally\n",
    "    count = 0\n",
    "    score = findNewAxis(map)\n",
    "    if(score > 0): \n",
    "        totalScore += (score * 100)\n",
    "        count += 1\n",
    "    tmap = np.transpose(map)\n",
    "    score = findNewAxis(tmap)\n",
    "    if(score > 0): \n",
    "        totalScore += (score)\n",
    "        count += 1\n",
    "    if(count ==0):\n",
    "        print(\"!!!!!!!!!!!!!!!!!!!!!!!!!!!!!!!!No fixable symmetry on map \",i)\n",
    "        print(\"Original Map\")\n",
    "        [print(''.join(['#' if x == 1 else '.' for x in row])) for row in map]\n",
    "        print(\"Transposed Map\")\n",
    "        [print(''.join(['#' if x == 1 else '.' for x in row])) for row in tmap]\n",
    "    if(count > 1):\n",
    "        print(\"!!!!!!!!!!! Multiple fixable symmetry on map \",i)\n",
    "print(\"Total Score:\" , totalScore)"
   ]
  }
 ],
 "metadata": {
  "kernelspec": {
   "display_name": "Python 3",
   "language": "python",
   "name": "python3"
  },
  "language_info": {
   "codemirror_mode": {
    "name": "ipython",
    "version": 3
   },
   "file_extension": ".py",
   "mimetype": "text/x-python",
   "name": "python",
   "nbconvert_exporter": "python",
   "pygments_lexer": "ipython3",
   "version": "3.11.4"
  }
 },
 "nbformat": 4,
 "nbformat_minor": 2
}
