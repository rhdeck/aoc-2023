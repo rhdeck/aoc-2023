{
 "cells": [
  {
   "cell_type": "code",
   "execution_count": 1,
   "metadata": {},
   "outputs": [],
   "source": [
    "source = open(\"08.txt\").read()\n",
    "\n",
    "instruction_list, node_lines =source.split(\"\\n\\n\")\n",
    "\n",
    "instructions = list(instruction_list)\n",
    "\n",
    "# nested list comprehension ftw\n",
    "node_array = [[node[0], node[1].strip('()').split(\", \")] for node in [node.split(\" = \") for node in node_lines.split(\"\\n\")]]\n",
    "\n",
    "nodes = {}\n",
    "for source, destinations in node_array:\n",
    "    l, r = destinations\n",
    "    nodes[source] = { \"L\": l,\"R\": r}"
   ]
  },
  {
   "cell_type": "markdown",
   "metadata": {},
   "source": [
    "# Part 1"
   ]
  },
  {
   "cell_type": "code",
   "execution_count": 2,
   "metadata": {},
   "outputs": [
    {
     "data": {
      "text/plain": [
       "18157"
      ]
     },
     "execution_count": 2,
     "metadata": {},
     "output_type": "execute_result"
    }
   ],
   "source": [
    "step = 0\n",
    "instruction_length = len(instructions)\n",
    "current = \"AAA\"\n",
    "while current != \"ZZZ\":\n",
    "    next = nodes[current][instructions[step % instruction_length]]\n",
    "    current = next\n",
    "    step += 1\n",
    "\n",
    "step"
   ]
  },
  {
   "cell_type": "markdown",
   "metadata": {},
   "source": [
    "# Part 2"
   ]
  },
  {
   "cell_type": "code",
   "execution_count": 4,
   "metadata": {},
   "outputs": [
    {
     "data": {
      "text/plain": [
       "14299763833181"
      ]
     },
     "execution_count": 4,
     "metadata": {},
     "output_type": "execute_result"
    }
   ],
   "source": [
    "import math\n",
    "starts = [x[0] for x in node_array if x[0][2] == 'A']\n",
    "\n",
    "step = 0\n",
    "instruction_length = len(instructions)\n",
    "distances = []\n",
    "# Find distances from start to end - note that they will repeat these distances over time\n",
    "for start in starts:\n",
    "    current = start\n",
    "    step = 0\n",
    "    while current[2] != \"Z\":\n",
    "        next = nodes[current][instructions[step % instruction_length]]\n",
    "        current = next\n",
    "        step += 1    \n",
    "    distances.append(step)\n",
    "\n",
    "#That means we just need to find when the all reach their ends at the same time - the least comon multiple of the distances\n",
    "gcd = (math.gcd(*distances))\n",
    "product = 1\n",
    "for distance in distances:\n",
    "    product *= distance / gcd\n",
    "# Least common multiple is the product of the distances times the least common multiple of all of the intersections, \n",
    "# which is the gcd to the negative power of the distances minus one, \n",
    "# so we have to multiply it gcd back here\n",
    "int(product * gcd) \n"
   ]
  }
 ],
 "metadata": {
  "kernelspec": {
   "display_name": "Python 3",
   "language": "python",
   "name": "python3"
  },
  "language_info": {
   "codemirror_mode": {
    "name": "ipython",
    "version": 3
   },
   "file_extension": ".py",
   "mimetype": "text/x-python",
   "name": "python",
   "nbconvert_exporter": "python",
   "pygments_lexer": "ipython3",
   "version": "3.11.4"
  }
 },
 "nbformat": 4,
 "nbformat_minor": 2
}
