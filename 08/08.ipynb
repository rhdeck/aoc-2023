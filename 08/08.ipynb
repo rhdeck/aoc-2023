{
 "cells": [
  {
   "cell_type": "code",
   "execution_count": 3,
   "metadata": {},
   "outputs": [],
   "source": [
    "source = open(\"08.txt\").read()\n",
    "\n",
    "instruction_list, node_lines =source.split(\"\\n\\n\")\n",
    "\n",
    "instructions = list(instruction_list)\n",
    "\n",
    "node_array = [node.split(\" = \") for node in node_lines.split(\"\\n\")]\n",
    "\n",
    "node_array = [[node[0], node[1].strip('()').split(\", \")] for node in node_array]\n",
    "\n",
    "nodes = {}\n",
    "for source, destinations in node_array:\n",
    "    l, r = destinations\n",
    "    nodes[source] = { \"L\": l,\"R\": r}"
   ]
  },
  {
   "cell_type": "markdown",
   "metadata": {},
   "source": [
    "# Part 1"
   ]
  },
  {
   "cell_type": "code",
   "execution_count": null,
   "metadata": {},
   "outputs": [],
   "source": [
    "step = 0\n",
    "instruction_length = len(instructions)\n",
    "current = \"AAA\"\n",
    "while current != \"ZZZ\":\n",
    "    # print(nodes[current])\n",
    "    # print(instructions[step])\n",
    "    next = nodes[current][instructions[step % instruction_length]]\n",
    "    current = next\n",
    "    step += 1\n",
    "\n",
    "print(step)\n"
   ]
  },
  {
   "cell_type": "markdown",
   "metadata": {},
   "source": [
    "# Part 2"
   ]
  },
  {
   "cell_type": "code",
   "execution_count": 7,
   "metadata": {},
   "outputs": [
    {
     "name": "stdout",
     "output_type": "stream",
     "text": [
      "20901397242353345851556531\n",
      "271\n"
     ]
    }
   ],
   "source": [
    "import numpy as np\n",
    "import math\n",
    "starts = [x[0] for x in node_array if x[0][2] == 'A']\n",
    "\n",
    "step = 0\n",
    "instruction_length = len(instructions)\n",
    "distances = []\n",
    "for start in starts:\n",
    "    current = start\n",
    "    step = 0\n",
    "    while current[2] != \"Z\":\n",
    "        # print(nodes[current])\n",
    "        # print(instructions[step])\n",
    "        next = nodes[current][instructions[step % instruction_length]]\n",
    "        current = next\n",
    "        step += 1    \n",
    "    distances.append(step)\n",
    "\n",
    "gcd = (math.gcd(*distances))\n",
    "\n",
    "score = np.array(distances).prod() / math.gcd(*distances)\n",
    "\n",
    "product = 1\n",
    "for distance in distances:\n",
    "    product *= distance\n",
    "print(product)\n",
    "print(gcd)\n",
    "\n",
    "int(product / gcd)\n",
    "\n",
    "def lcm(x, y):\n",
    "   if x > y:\n",
    "       greater = x\n",
    "   else:\n",
    "       greater = y\n",
    "\n",
    "   while(True):\n",
    "       if ((greater % x == 0) and (greater % y == 0)):\n",
    "           lcm = greater\n",
    "           break\n",
    "       greater += 1\n",
    "\n",
    "   return lcm\n",
    "\n",
    "l = 1\n",
    "for distance in distances:\n",
    "    l = lcm(l, distance)\n",
    "\n",
    "print(l)\n"
   ]
  },
  {
   "cell_type": "code",
   "execution_count": null,
   "metadata": {},
   "outputs": [],
   "source": [
    "starts = [x[0] for x in node_array if x[0][2] == 'A']\n",
    "\n",
    "step = 0\n",
    "instruction_length = len(instructions)\n",
    "currents= starts\n",
    "print(currents)\n",
    "step = 1176648904 \n",
    "currents = ['BJQ', 'QQB', 'CQL', 'HNQ', 'GDP', 'VVF']\n",
    "while len([x for x in currents if x[2] == 'Z']) < len(currents):\n",
    "    # print(nodes[current])\n",
    "    # print(instructions[step])\n",
    "    nexts = [nodes[current][instructions[step % instruction_length]] for current in currents]\n",
    "    currents = nexts\n",
    "    step += 1\n",
    "    # print(currents)\n",
    "\n",
    "print(step)"
   ]
  },
  {
   "cell_type": "code",
   "execution_count": null,
   "metadata": {},
   "outputs": [],
   "source": []
  }
 ],
 "metadata": {
  "kernelspec": {
   "display_name": "Python 3",
   "language": "python",
   "name": "python3"
  },
  "language_info": {
   "codemirror_mode": {
    "name": "ipython",
    "version": 3
   },
   "file_extension": ".py",
   "mimetype": "text/x-python",
   "name": "python",
   "nbconvert_exporter": "python",
   "pygments_lexer": "ipython3",
   "version": "3.11.4"
  }
 },
 "nbformat": 4,
 "nbformat_minor": 2
}
