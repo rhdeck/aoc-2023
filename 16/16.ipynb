{
 "cells": [
  {
   "cell_type": "markdown",
   "metadata": {},
   "source": [
    "# Part 1"
   ]
  },
  {
   "cell_type": "code",
   "execution_count": 1,
   "metadata": {},
   "outputs": [
    {
     "name": "stdout",
     "output_type": "stream",
     "text": [
      "Final answer 8098\n"
     ]
    }
   ],
   "source": [
    "grid = [list(line) for line in open('16.txt').read().splitlines()]\n",
    "\n",
    "\n",
    "moves = {\n",
    "    \"W\": (-1, 0),\n",
    "    \"N\": (0, -1),\n",
    "    \"E\": (1, 0),\n",
    "    \"S\": (0, 1),\n",
    "}\n",
    "directions = \"NESW\"\n",
    "slashDirections = { \n",
    "    \"E\": \"N\",  # /\n",
    "    \"N\": \"E\",\n",
    "    \"W\":\"S\",\n",
    "    \"S\":\"W\"\n",
    "}\n",
    "backslashDirections = {\n",
    "    \"E\": \"S\",  # \\\n",
    "    \"S\": \"E\",\n",
    "    \"W\":\"N\",\n",
    "    \"N\":\"W\"\n",
    "}\n",
    "\n",
    "def move(pos, direction, energized):\n",
    "    x,y = pos\n",
    "    testPos = x + moves[direction][0], y + moves[direction][1]\n",
    "    if(testPos[0] < 0 or testPos[1] < 0 or testPos[0] >= len(grid[0]) or testPos[1] >= len(grid)):\n",
    "        return []\n",
    "    test = grid[testPos[1]][testPos[0]]\n",
    "\n",
    "    if(test == '|' and direction in \"EW\"):\n",
    "        return [[testPos, \"N\"], [testPos, \"S\"]]\n",
    "    \n",
    "    elif(test == '-' and direction in \"NS\"):\n",
    "        return [[testPos, \"E\"], [testPos, \"W\"]]\n",
    "    elif(test == '/'):\n",
    "        newDirection = slashDirections[direction]\n",
    "        return [[testPos, newDirection]]\n",
    "    elif(test == '\\\\'):\n",
    "        newDirection =backslashDirections[direction] \n",
    "        return [[testPos, newDirection]]\n",
    "    elif(str(testPos) in energized):\n",
    "        if direction in energized[str(testPos)]:\n",
    "            return []\n",
    "        else:\n",
    "            return [[testPos, direction]]\n",
    "    else:\n",
    "        return [[testPos, direction]]\n",
    "def energize(pos, direction, energized):\n",
    "    if(pos[0] < 0 or pos[1] < 0 or pos[0] >= len(grid[0]) or pos[1] >= len(grid)):\n",
    "        return False\n",
    "    key = str(pos)\n",
    "    if(key in energized):\n",
    "         energized[key].append(direction)\n",
    "    else:\n",
    "        energized[key] = [direction]\n",
    "    return True\n",
    "\n",
    "def printGrid():\n",
    "    for y in range(len(grid)):\n",
    "        for x in range(len(grid[y])):\n",
    "            if(str((x,y)) in energized):\n",
    "                print(\"#\", end=\"\")\n",
    "            else:\n",
    "                print(grid[y][x], end=\"\")\n",
    "        print()\n",
    "\n",
    "def scoreStartingPos(startingPos):\n",
    "    beams = [startingPos]\n",
    "    energized = {}\n",
    "    killCounter = 0\n",
    "    while(len(beams) > 0):\n",
    "        newBeams = []\n",
    "        for beam in beams:\n",
    "            testBeams = move(beam[0], beam[1], energized)\n",
    "            for testBeam in testBeams:\n",
    "                if energize(*testBeam, energized) == True:\n",
    "                    newBeams.append(testBeam)\n",
    "        uBeams = {}\n",
    "        for beam in newBeams:\n",
    "            key = str(beam[0]) + beam[1]\n",
    "            uBeams[key] = beam\n",
    "        beams = uBeams.values()\n",
    "        killCounter += 1\n",
    "        if(killCounter > 1000):\n",
    "            print(\"Killing for count\")\n",
    "            break\n",
    "    return len(energized.keys())\n",
    "\n",
    "print(\"Final answer\", scoreStartingPos([(-1, 0), \"E\"]))\n"
   ]
  },
  {
   "cell_type": "markdown",
   "metadata": {},
   "source": [
    "# Part 2"
   ]
  },
  {
   "cell_type": "code",
   "execution_count": 4,
   "metadata": {},
   "outputs": [
    {
     "name": "stdout",
     "output_type": "stream",
     "text": [
      "Max score 8335\n"
     ]
    }
   ],
   "source": [
    "scores = []\n",
    "\n",
    "for x in range(len(grid[0])):\n",
    "    scores.append(scoreStartingPos([(x, -1), \"S\"]))\n",
    "    scores.append(scoreStartingPos([(x, len(grid)), \"N\"]))\n",
    "for y in range(len(grid)):\n",
    "    scores.append(scoreStartingPos([(-1, y), \"E\"]))\n",
    "    scores.append(scoreStartingPos([(len(grid[0]), y), \"W\"]))\n",
    "\n",
    "print(\"Max score\", max(scores))"
   ]
  }
 ],
 "metadata": {
  "kernelspec": {
   "display_name": "Python 3",
   "language": "python",
   "name": "python3"
  },
  "language_info": {
   "codemirror_mode": {
    "name": "ipython",
    "version": 3
   },
   "file_extension": ".py",
   "mimetype": "text/x-python",
   "name": "python",
   "nbconvert_exporter": "python",
   "pygments_lexer": "ipython3",
   "version": "3.11.4"
  }
 },
 "nbformat": 4,
 "nbformat_minor": 2
}
