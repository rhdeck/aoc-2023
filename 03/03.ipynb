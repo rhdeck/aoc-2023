{
 "cells": [
  {
   "cell_type": "code",
   "execution_count": 31,
   "metadata": {},
   "outputs": [],
   "source": [
    "source = open('03.txt', 'r').read()\n",
    "lines = source.split('\\n')\n",
    "numbers = []\n",
    "symbols = []\n",
    "for  linenumber in range(len(lines)):\n",
    "    line = lines[linenumber]\n",
    "    current = ''\n",
    "    start = -1\n",
    "    for i in range(len(line)):\n",
    "        if line[i] in '0123456789':\n",
    "            current += line[i]\n",
    "            if start == -1:\n",
    "                start = i\n",
    "        else:\n",
    "            if current:\n",
    "                numbers.append({\"numstr\":current, \"num\":int(current), \"start\":start, \"end\":i-1, \"line\":linenumber})\n",
    "                current = ''\n",
    "                start = -1\n",
    "            if line[i] != '.':\n",
    "                symbols.append({\"symbol\":line[i], \"start\":i, \"end\":i, \"line\":linenumber})\n",
    "    if current:\n",
    "        numbers.append({\"numstr\":current, \"num\":int(current), \"start\":start, \"end\":i-1, \"line\":linenumber})\n",
    "        current = ''\n",
    "        start = -1"
   ]
  },
  {
   "cell_type": "markdown",
   "metadata": {},
   "source": [
    "# Part 1"
   ]
  },
  {
   "cell_type": "code",
   "execution_count": 32,
   "metadata": {},
   "outputs": [
    {
     "data": {
      "text/plain": [
       "537732"
      ]
     },
     "execution_count": 32,
     "metadata": {},
     "output_type": "execute_result"
    }
   ],
   "source": [
    "numbersWithSymbols = []\n",
    "for number in numbers:\n",
    "    for symbol in symbols:\n",
    "        if abs(symbol[\"line\"] - number[\"line\"]) < 2 and symbol[\"start\"] >= number[\"start\"]-1 and symbol[\"end\"] <= number[\"end\"]+1:\n",
    "            numbersWithSymbols.append({\"num\":number[\"num\"], \"symbol\":symbol[\"symbol\"]})\n",
    "            break\n",
    "nums = sum([x[\"num\"] for x in numbersWithSymbols])\n",
    "nums"
   ]
  },
  {
   "cell_type": "markdown",
   "metadata": {},
   "source": [
    "# Part 2"
   ]
  },
  {
   "cell_type": "code",
   "execution_count": 34,
   "metadata": {},
   "outputs": [
    {
     "data": {
      "text/plain": [
       "84883664"
      ]
     },
     "execution_count": 34,
     "metadata": {},
     "output_type": "execute_result"
    }
   ],
   "source": [
    "gears = [symbol for symbol in symbols if symbol[\"symbol\"] == '*']\n",
    "products = []\n",
    "for gear in gears:\n",
    "    gearValues = []\n",
    "    for number in numbers:\n",
    "          if abs(gear[\"line\"] - number[\"line\"]) < 2 and gear[\"start\"] >= number[\"start\"]-1 and gear[\"end\"] <= number[\"end\"]+1:\n",
    "            gearValues.append(number[\"num\"])\n",
    "    if len(gearValues) == 2:\n",
    "        products.append(gearValues[0] * gearValues[1])\n",
    "\n",
    "part2 = sum(products)\n",
    "part2\n"
   ]
  }
 ],
 "metadata": {
  "kernelspec": {
   "display_name": "Python 3",
   "language": "python",
   "name": "python3"
  },
  "language_info": {
   "codemirror_mode": {
    "name": "ipython",
    "version": 3
   },
   "file_extension": ".py",
   "mimetype": "text/x-python",
   "name": "python",
   "nbconvert_exporter": "python",
   "pygments_lexer": "ipython3",
   "version": "3.11.4"
  }
 },
 "nbformat": 4,
 "nbformat_minor": 2
}
