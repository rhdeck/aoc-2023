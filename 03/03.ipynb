{
 "cells": [
  {
   "cell_type": "code",
   "execution_count": 9,
   "metadata": {},
   "outputs": [
    {
     "name": "stdout",
     "output_type": "stream",
     "text": [
      "[{'numstr': '467', 'num': 467, 'start': 0, 'end': 2, 'line': 0}, {'numstr': '114', 'num': 114, 'start': 5, 'end': 7, 'line': 0}, {'numstr': '35', 'num': 35, 'start': 2, 'end': 3, 'line': 2}, {'numstr': '633', 'num': 633, 'start': 6, 'end': 8, 'line': 2}, {'numstr': '617', 'num': 617, 'start': 0, 'end': 2, 'line': 4}, {'numstr': '58', 'num': 58, 'start': 7, 'end': 8, 'line': 5}, {'numstr': '592', 'num': 592, 'start': 2, 'end': 4, 'line': 6}, {'numstr': '755', 'num': 755, 'start': 6, 'end': 8, 'line': 7}, {'numstr': '664', 'num': 664, 'start': 1, 'end': 3, 'line': 9}, {'numstr': '598', 'num': 598, 'start': 5, 'end': 7, 'line': 9}]\n",
      "[{'symbol': '*', 'start': 3, 'end': 3}, {'symbol': '#', 'start': 6, 'end': 6}, {'symbol': '*', 'start': 3, 'end': 3}, {'symbol': '+', 'start': 5, 'end': 5}, {'symbol': '$', 'start': 3, 'end': 3}, {'symbol': '*', 'start': 5, 'end': 5}]\n"
     ]
    }
   ],
   "source": [
    "source = open('03test.txt', 'r').read()\n",
    "lines = source.split('\\n')\n",
    "numbers = []\n",
    "symbols = []\n",
    "for  linenumber in range(len(lines)):\n",
    "    line = lines[linenumber]\n",
    "    current = ''\n",
    "    start = -1\n",
    "    for i in range(len(line)):\n",
    "        if line[i] in '0123456789':\n",
    "            current += line[i]\n",
    "            if start == -1:\n",
    "                start = i\n",
    "        else:\n",
    "            if current:\n",
    "                numbers.append({\"numstr\":current, \"num\":int(current), \"start\":start, \"end\":i-1, \"line\":linenumber})\n",
    "                current = ''\n",
    "                start = -1\n",
    "            if line[i] != '.':\n",
    "                symbols.append({\"symbol\":line[i], \"start\":i, \"end\":i, \"line\":linenumber})\n",
    "    if current:\n",
    "        numbers.append({\"numstr\":current, \"num\":int(current), \"start\":start, \"end\":i-1, \"line\":linenumber})\n",
    "        current = ''\n",
    "        start = -1\n",
    "\n",
    "print(numbers)\n",
    "print(symbols)"
   ]
  }
 ],
 "metadata": {
  "kernelspec": {
   "display_name": "Python 3",
   "language": "python",
   "name": "python3"
  },
  "language_info": {
   "codemirror_mode": {
    "name": "ipython",
    "version": 3
   },
   "file_extension": ".py",
   "mimetype": "text/x-python",
   "name": "python",
   "nbconvert_exporter": "python",
   "pygments_lexer": "ipython3",
   "version": "3.11.4"
  }
 },
 "nbformat": 4,
 "nbformat_minor": 2
}
