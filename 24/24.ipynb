{
 "cells": [
  {
   "cell_type": "code",
   "execution_count": 1,
   "metadata": {},
   "outputs": [],
   "source": [
    "test = ('24.test.txt', 7, 27)\n",
    "prod = ('24.txt', 200000000000000, 400000000000000)\n",
    "\n",
    "# input = test\n",
    "input = prod \n",
    "minXY = input[1]\n",
    "maxXY = input[2]\n",
    "\n",
    "source = [[[int(y) for y in x.split(', ')] for x in line.strip().split(' @ ')] for line in open(input[0]).readlines()]\n",
    "\n",
    "# source"
   ]
  },
  {
   "cell_type": "markdown",
   "metadata": {},
   "source": [
    "# Part 1: Hits"
   ]
  },
  {
   "cell_type": "code",
   "execution_count": 2,
   "metadata": {},
   "outputs": [],
   "source": [
    "hits = 0\n",
    "for i in range(len(source)-1):\n",
    "    raya = source[i]\n",
    "    x1, y1,z1 = raya[0]\n",
    "    run1, rise1, jump1 = raya[1]\n",
    "    yintercepta = y1 - (rise1/run1)*x1\n",
    "    slopea = rise1/run1\n",
    "    # print(\"------------\")\n",
    "    # print(\"Base\", i, slopea, yintercepta)\n",
    "    for j in range(i+1, len(source)):\n",
    "        rayb = source[j]\n",
    "        x2, y2,z2 = rayb[0]\n",
    "        run2, rise2, jump2 = rayb[1]\n",
    "        # do they intersect on x and y?\n",
    "        yinterceptb = y2 - (rise2/run2)*x2\n",
    "        slopeb = rise2/run2\n",
    "        # print(\"Comparing with\", j, slopeb, yinterceptb)\n",
    "        if slopea == slopeb:\n",
    "            # print(\"Parallel\")\n",
    "            continue\n",
    "        xintersect = (yinterceptb - yintercepta)/(slopea - slopeb)\n",
    "        yintersect = slopea*xintersect + yintercepta\n",
    "        if(run2 < 0 and xintersect > x2) or (run2 > 0 and xintersect < x2):\n",
    "            # print(\"Wrong direction\")\n",
    "            continue\n",
    "        if(run1 < 0 and xintersect > x1) or (run1 > 0 and xintersect < x1):\n",
    "            # print(\"Wrong direction\")\n",
    "            continue\n",
    "        if(rise2 < 0 and yintersect > y2) or (rise2 > 0 and yintersect < y2):\n",
    "            # print(\"Wrong direction\")\n",
    "            continue\n",
    "        if(rise1 < 0 and yintersect > y1) or (rise1 > 0 and yintersect < y1):\n",
    "            # print(\"Wrong direction\")\n",
    "            continue\n",
    "        \n",
    "        if xintersect < minXY or xintersect > maxXY or yintersect < minXY or yintersect > maxXY:\n",
    "            # print(\"Out of bounds\")\n",
    "            continue\n",
    "        # print(\"Intersection at\", xintersect, yintersect)\n",
    "        hits += 1"
   ]
  },
  {
   "cell_type": "code",
   "execution_count": 3,
   "metadata": {},
   "outputs": [
    {
     "data": {
      "text/plain": [
       "12783"
      ]
     },
     "execution_count": 3,
     "metadata": {},
     "output_type": "execute_result"
    }
   ],
   "source": [
    "hits"
   ]
  },
  {
   "cell_type": "markdown",
   "metadata": {},
   "source": [
    "# Part 2: Solver"
   ]
  },
  {
   "cell_type": "code",
   "execution_count": null,
   "metadata": {},
   "outputs": [],
   "source": [
    "def hail_hit(raya,rayb):\n",
    "    x1, y1,z1 = raya[0]\n",
    "    run1, rise1, jump1 = raya[1]\n",
    "    yintercepta = y1 - (rise1/run1)*x1\n",
    "    slopea = rise1/run1\n",
    "    rayb = source[j]\n",
    "    x2, y2,z2 = rayb[0]\n",
    "    run2, rise2, jump2 = rayb[1]\n",
    "    # do they intersect on x and y?\n",
    "    yinterceptb = y2 - (rise2/run2)*x2\n",
    "    slopeb = rise2/run2\n",
    "    # print(\"Comparing with\", j, slopeb, yinterceptb)\n",
    "    if slopea == slopeb:\n",
    "        # print(\"Parallel\")\n",
    "        return None\n",
    "    xintersect = (yinterceptb - yintercepta)/(slopea - slopeb)\n",
    "    yintersect = slopea*xintersect + yintercepta\n",
    "    if(run2 < 0 and xintersect > x2) or (run2 > 0 and xintersect < x2):\n",
    "        # print(\"Wrong direction\")\n",
    "        return 1\n",
    "    if(run1 < 0 and xintersect > x1) or (run1 > 0 and xintersect < x1):\n",
    "        # print(\"Wrong direction\")\n",
    "        return 1\n",
    "    if(rise2 < 0 and yintersect > y2) or (rise2 > 0 and yintersect < y2):\n",
    "        # print(\"Wrong direction\")\n",
    "        return 1\n",
    "    if(rise1 < 0 and yintersect > y1) or (rise1 > 0 and yintersect < y1):\n",
    "        # print(\"Wrong direction\")\n",
    "        return 1\n",
    "    \n",
    "    if xintersect < minXY or xintersect > maxXY or yintersect < minXY or yintersect > maxXY:\n",
    "        # print(\"Out of bounds\")\n",
    "        return 1\n",
    "    return 0"
   ]
  }
 ],
 "metadata": {
  "kernelspec": {
   "display_name": "Python 3",
   "language": "python",
   "name": "python3"
  },
  "language_info": {
   "codemirror_mode": {
    "name": "ipython",
    "version": 3
   },
   "file_extension": ".py",
   "mimetype": "text/x-python",
   "name": "python",
   "nbconvert_exporter": "python",
   "pygments_lexer": "ipython3",
   "version": "3.11.4"
  }
 },
 "nbformat": 4,
 "nbformat_minor": 2
}
