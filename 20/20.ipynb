{
 "cells": [
  {
   "cell_type": "code",
   "execution_count": 1,
   "metadata": {},
   "outputs": [],
   "source": [
    "from collections import deque \n",
    "\n",
    "class flipflop:\n",
    "    def __init__(self, destinations):\n",
    "        self.state = False\n",
    "        self.destinations = destinations\n",
    "    def pulse(self, p, origin):\n",
    "        # Origin is unused\n",
    "        if(p == \"high\"):\n",
    "            return None\n",
    "        else: # p == \"low\"\n",
    "            self.state = not self.state\n",
    "            if(self.state == True):\n",
    "                return \"high\"\n",
    "            else:\n",
    "                return \"low\"\n",
    "    def get_state(self):\n",
    "        return int(self.state)\n",
    "    def add_input(self, input):\n",
    "        pass\n",
    "    def get_destinations(self):\n",
    "        return self.destinations\n",
    "\n",
    "class conjunction:\n",
    "    def __init__(self, destinations):\n",
    "        self.inputs = {}\n",
    "        self.destinations = destinations\n",
    "    def pulse(self, p, origin):\n",
    "        self.inputs[origin] = p\n",
    "        # print(\"Checking inputs\", self.inputs)\n",
    "        return self.get_hl()\n",
    "    def get_hl(self):\n",
    "        if(\"low\" in self.inputs.values()):\n",
    "            return \"high\"\n",
    "        else:\n",
    "            return \"low\"\n",
    "    def get_state(self):\n",
    "        return 1 if self.state == 'high' else 0\n",
    "    def add_input(self, input):\n",
    "        self.inputs[input] = \"low\"\n",
    "    def get_destinations(self):\n",
    "        return self.destinations\n",
    "\n",
    "def pushButton(modules, oldstart, keysToWatch = []):\n",
    "    start = oldstart.copy()\n",
    "    out = {\"high\":0, \"low\":1}\n",
    "\n",
    "    # print(\"Sent from button to broadcaster with low\")\n",
    "    # for s in start:\n",
    "        # print(\"Sent from broadcaster to \", s[0], \" with \", s[1])\n",
    "    while len(start):\n",
    "        (key, value, origin) = start.popleft()\n",
    "        out[value] += 1\n",
    "        if(key in modules):\n",
    "            m = modules[key]\n",
    "            newPulse = m.pulse(value, origin)\n",
    "            # print(\"checking key in keystowatch\", key, keysToWatch)\n",
    "            if key in keysToWatch:\n",
    "                # print(\"found a key I care about\", key)\n",
    "                if newPulse == 'high':\n",
    "                    # print(\"found a high pulse I care about\", key)\n",
    "                    out[key] = value\n",
    "\n",
    "            if(newPulse != None):\n",
    "                for d in m.get_destinations():\n",
    "                    start.append((d, newPulse, key))\n",
    "        else:\n",
    "            # print(\"Error: \", key, \" not in modules\", value)\n",
    "            if key not in out.keys():\n",
    "               out[key] = value\n",
    "                # print(\"Sending from \", key, \" to \", d, \" with \", newPulse)\n",
    "    return out\n"
   ]
  },
  {
   "cell_type": "markdown",
   "metadata": {},
   "source": [
    "# Part 1"
   ]
  },
  {
   "cell_type": "code",
   "execution_count": 2,
   "metadata": {},
   "outputs": [],
   "source": [
    "\n",
    "lines = open('20.txt').read().splitlines()\n",
    "\n",
    "modules = {}\n",
    "start = deque()\n",
    "for line in lines:\n",
    "    key, destination = line.split(\" -> \")\n",
    "    dests = destination.split(\", \")\n",
    "    keyType = key[0]\n",
    "    keyTag = key[1:]\n",
    "    # print(keyType, keyTag, destination)\n",
    "    if keyType == 'b':\n",
    "       \n",
    "        for dest in dests:\n",
    "            start.append((dest, \"low\", \"broadcast\"))\n",
    "    elif keyType == '%':\n",
    "        m = flipflop(dests)\n",
    "        modules[keyTag] = m\n",
    "    elif keyType == '&':\n",
    "        m = conjunction(dests)\n",
    "        modules[keyTag] = m\n",
    "for m in modules.keys():\n",
    "    for d in modules[m].get_destinations():\n",
    "        if(d in modules.keys()):\n",
    "            # print(\"Adding \", m , \" to \", d  )\n",
    "            modules[d].add_input(m)\n",
    "\n"
   ]
  },
  {
   "cell_type": "code",
   "execution_count": 3,
   "metadata": {},
   "outputs": [
    {
     "name": "stdout",
     "output_type": "stream",
     "text": [
      "807069600\n"
     ]
    }
   ],
   "source": [
    "\n",
    "outs = {\"high\":0, \"low\":0}\n",
    "for i in range(1000):\n",
    "    # print(\"-------\")\n",
    "    out = pushButton(modules, start)\n",
    "    # print(out)\n",
    "    for k in out.keys():\n",
    "        if k in outs.keys(): outs[k] += out[k]\n",
    "    # if('rx' in out.keys()):\n",
    "        # print(i, \"RX\", out['rx'])\n",
    "\n",
    "print(outs['high'] * outs['low'])"
   ]
  },
  {
   "cell_type": "markdown",
   "metadata": {},
   "source": [
    "# Part 2"
   ]
  },
  {
   "cell_type": "code",
   "execution_count": 4,
   "metadata": {},
   "outputs": [],
   "source": [
    "lines = open('20.txt').read().splitlines()\n",
    "\n",
    "modules = {}\n",
    "start = deque()\n",
    "flipflops = []\n",
    "\n",
    "for line in lines:\n",
    "    key, destination = line.split(\" -> \")\n",
    "    dests = destination.split(\", \")\n",
    "    keyType = key[0]\n",
    "    keyTag = key[1:]\n",
    "    # print(keyType, keyTag, destination)\n",
    "    if keyType == 'b':\n",
    "       \n",
    "        for dest in dests:\n",
    "            start.append((dest, \"low\", \"broadcast\"))\n",
    "    elif keyType == '%':\n",
    "        m = flipflop(dests)\n",
    "        flipflops.append(m)\n",
    "        modules[keyTag] = m\n",
    "    elif keyType == '&':\n",
    "        m = conjunction(dests)\n",
    "        modules[keyTag] = m\n",
    "for m in modules.keys():\n",
    "    for d in modules[m].get_destinations():\n",
    "        if(d in modules.keys()):\n",
    "            # print(\"Adding \", m , \" to \", d  )\n",
    "            modules[d].add_input(m)\n",
    "\n",
    "finalInput = [k for k in modules.keys() if \"rx\" in modules[k].get_destinations()].pop()\n",
    "previousInputs = list(modules[finalInput].inputs.keys())\n",
    "\n",
    "# previousInputs"
   ]
  },
  {
   "cell_type": "code",
   "execution_count": 5,
   "metadata": {},
   "outputs": [
    {
     "name": "stdout",
     "output_type": "stream",
     "text": [
      "221453937522197\n"
     ]
    }
   ],
   "source": [
    "import math \n",
    "values = []\n",
    "spaces = {}\n",
    "for k in previousInputs:\n",
    "    spaces[k] = []\n",
    "for i in range(10000):\n",
    "    out= pushButton(modules, start, previousInputs)\n",
    "    for k in previousInputs:\n",
    "        if k in out.keys():\n",
    "            spaces[k].append(i)\n",
    "\n",
    "for k in spaces:\n",
    "    v = spaces[k]\n",
    "    start = 0\n",
    "\n",
    "lasts = []\n",
    "for k in spaces:\n",
    "    v = spaces[k]\n",
    "    lasts.append(v[-1] - v[-2])\n",
    "\n",
    "lcm = lasts[0];\n",
    "for i in lasts[1:]:\n",
    "  lcm = lcm*i//math.gcd(lcm, i)\n",
    "\n",
    "print(lcm)"
   ]
  },
  {
   "cell_type": "markdown",
   "metadata": {},
   "source": []
  }
 ],
 "metadata": {
  "kernelspec": {
   "display_name": "Python 3",
   "language": "python",
   "name": "python3"
  },
  "language_info": {
   "codemirror_mode": {
    "name": "ipython",
    "version": 3
   },
   "file_extension": ".py",
   "mimetype": "text/x-python",
   "name": "python",
   "nbconvert_exporter": "python",
   "pygments_lexer": "ipython3",
   "version": "3.11.4"
  }
 },
 "nbformat": 4,
 "nbformat_minor": 2
}
