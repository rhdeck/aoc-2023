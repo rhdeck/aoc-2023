{
 "cells": [
  {
   "cell_type": "markdown",
   "metadata": {},
   "source": [
    "# Part 1"
   ]
  },
  {
   "cell_type": "code",
   "execution_count": 28,
   "metadata": {},
   "outputs": [
    {
     "data": {
      "text/plain": [
       "55130"
      ]
     },
     "execution_count": 28,
     "metadata": {},
     "output_type": "execute_result"
    }
   ],
   "source": [
    "# read file called 01.txt into variable and print the variable\n",
    "readfile = open(\"01.txt\", \"r\")\n",
    "lines = readfile.read()\n",
    "source = lines.split(\"\\n\")\n",
    "numberMap = []\n",
    "for line in source:\n",
    "    numbers = []\n",
    "    for a in line:\n",
    "        if a in '0123456789':\n",
    "            numbers.append(a)\n",
    "    first = numbers[0];\n",
    "    last = numbers[-1]\n",
    "    combo = int(first + last)\n",
    "    numberMap.append(combo)\n",
    "total = 0\n",
    "for num in numberMap:\n",
    "    total += num\n",
    "total\n"
   ]
  },
  {
   "cell_type": "markdown",
   "metadata": {},
   "source": [
    "# Part 2"
   ]
  },
  {
   "cell_type": "code",
   "execution_count": 29,
   "metadata": {},
   "outputs": [
    {
     "data": {
      "text/plain": [
       "54985"
      ]
     },
     "execution_count": 29,
     "metadata": {},
     "output_type": "execute_result"
    }
   ],
   "source": [
    "# read file called 01.txt into variable and print the variable\n",
    "readfile = open(\"01.txt\", \"r\")\n",
    "lines = readfile.read()\n",
    "source = lines.split(\"\\n\")\n",
    "numberMap = []\n",
    "words = [\"zero\", \"one\", \"two\", \"three\", \"four\", \"five\", \"six\", \"seven\", \"eight\", \"nine\"]\n",
    "for line in source:\n",
    "    numbers = []\n",
    "    for i in range (len(line)):    \n",
    "        for j in range(len(words)):\n",
    "            word = words[j]\n",
    "            candidate = line[i:i+len(word)]\n",
    "            if word == candidate:\n",
    "               numbers.append(str(j))        \n",
    "        a = line[i]\n",
    "        if a in '0123456789':\n",
    "            numbers.append(a)\n",
    "    first = numbers[0];\n",
    "    last = numbers[-1]\n",
    "    combo = int(first + last)\n",
    "    numberMap.append(combo)\n",
    "total = 0\n",
    "for num in numberMap:\n",
    "    total += num\n",
    "total"
   ]
  }
 ],
 "metadata": {
  "kernelspec": {
   "display_name": "Python 3",
   "language": "python",
   "name": "python3"
  },
  "language_info": {
   "codemirror_mode": {
    "name": "ipython",
    "version": 3
   },
   "file_extension": ".py",
   "mimetype": "text/x-python",
   "name": "python",
   "nbconvert_exporter": "python",
   "pygments_lexer": "ipython3",
   "version": "3.11.4"
  }
 },
 "nbformat": 4,
 "nbformat_minor": 2
}
