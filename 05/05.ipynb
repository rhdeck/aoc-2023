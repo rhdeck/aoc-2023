{
 "cells": [
  {
   "cell_type": "markdown",
   "metadata": {},
   "source": [
    "# Part 1"
   ]
  },
  {
   "cell_type": "code",
   "execution_count": 1,
   "metadata": {},
   "outputs": [
    {
     "data": {
      "text/plain": [
       "993500720"
      ]
     },
     "execution_count": 1,
     "metadata": {},
     "output_type": "execute_result"
    }
   ],
   "source": [
    "source = open(\"05.txt\", \"r\").read()\n",
    "sections = source.split(\"\\n\\n\")\n",
    "\n",
    "seed_list = sections[0];\n",
    "seeds = seed_list.split(\" \")[1:]\n",
    "maps = sections[1:]\n",
    "\n",
    "location_maps = []\n",
    "for map in maps:\n",
    "    lines = map.split(\"\\n\")\n",
    "    label = lines[0]\n",
    "    mappings = lines[1:]\n",
    "    location_map = {\"label\": label, \"mappings\": []}\n",
    "\n",
    "    for line in mappings:\n",
    "        target_start, seed_start, seed_range = line.split(\" \")\n",
    "        seed_start = int(seed_start)\n",
    "        target_start = int(target_start)\n",
    "        seed_range = int(seed_range)\n",
    "        location_map[\"mappings\"].append((seed_start, target_start, seed_range))\n",
    "    location_map[\"mappings\"] = sorted(location_map[\"mappings\"], key=lambda x: x[0])\n",
    "    location_maps.append(location_map)\n",
    "def apply_map(start, location_map):\n",
    "    for mapping in location_map[\"mappings\"]:\n",
    "        seed_start, target_start, seed_range = mapping\n",
    "        if start >= seed_start and start < seed_start + seed_range:\n",
    "            return target_start + (start - seed_start)\n",
    "    return start\n",
    "ends = []\n",
    "for seed in seeds:\n",
    "    start = int(seed)\n",
    "    for location_map in location_maps:\n",
    "        start = apply_map(start, location_map)\n",
    "    ends.append(start)\n",
    "ends\n",
    "min(ends)"
   ]
  },
  {
   "cell_type": "markdown",
   "metadata": {},
   "source": [
    "# Part 2\n",
    "\n",
    "A windowing approach to look only at min/maxes"
   ]
  },
  {
   "cell_type": "code",
   "execution_count": 5,
   "metadata": {},
   "outputs": [
    {
     "name": "stdout",
     "output_type": "stream",
     "text": [
      "Start/stops at the end [(2451693126, 2462136307), (941229774, 956126847), (3872645852, 7788973210), (2863253575, 2863789920), (927578110, 941229773), (1254861475, 1265551187), (1117877078, 1120661447), (131232857, 170440432), (4917124, 26906321), (346168560, 372295459), (849065671, 866603111), (984064244, 992777068), (3959177216, 4006820159), (3916327360, 3917692981), (4006820160, 4057801902), (3999128306, 4006820159), (758779969, 849065670), (1196050912, 1204904733), (1869814336, 1974894028), (1306674295, 1306958597), (1254861475, 1267737981), (4006820160, 4142785219), (3026269959, 3046293533), (1353423637, 1414655296), (1749735260, 1762174326), (4209083316, 4239131443), (2136669394, 2362768797), (183212530, 194220167), (1189359878, 1192072244), (4057801903, 4060823390), (993500720, 1046108865), (1254861475, 1353423636), (1857805100, 1869814335), (4294967296, 6445144035), (1095439147, 1101390377), (4060823391, 4109241562), (3248837023, 3310491346), (2971234036, 3026269958), (3917692982, 3937174087), (2068363018, 2136669393), (1073375358, 1120661447), (972039880, 980427006), (1602880419, 1636908700), (3916327360, 3959177215), (3345667526, 3360246805), (3916327360, 4006820159), (1204904734, 1220394594), (664856830, 668969847), (4006820160, 4029297578), (130183265, 131232856), (2074253769, 2136669393), (4253182961, 4257415957), (1714597082, 1749735259), (1414655297, 1456264537), (4142785220, 4165045942), (4294967296, 8017711393), (1102680915, 1115966297), (1115966298, 1117877077), (3410399809, 3473705667), (1267737982, 1293252703), (695187783, 729918846), (1891380028, 1894439803), (3405373581, 3410399808), (1293252704, 1353423636), (3473888953, 3499315465), (4194060562, 4294967295), (972039880, 992777068), (1869814336, 1878554571), (622227828, 664856829), (2462136308, 2464603540), (4239131444, 4241763747), (506868461, 560267004), (2024471316, 2032625845), (4257415958, 4294967295), (3944872905, 3959177215), (4163475592, 4165045942), (2497827912, 2505945067), (2408792839, 2420863275), (3517086649, 7433414007), (1104016050, 1115966297), (664856830, 673966046), (1287996368, 1293252703), (4006820160, 4185175198), (2432530754, 2435357233), (1535840891, 1539117962), (2568918194, 2725544641), (2533232777, 2568918193), (1293252704, 1305773306), (866603112, 894219346), (3473705668, 3473888952), (2859332385, 2863253574), (3101408994, 3173598445), (4194060562, 6034194748), (4194060562, 4209083315), (1095439147, 1117877077), (1894439804, 1974894028), (4146091277, 4163475591), (894219347, 913752390), (2420863276, 2462136307), (956126848, 972039879), (4047501231, 4057801902), (4029297579, 4045420578), (60756547, 82868912), (4045420579, 4047501230), (2857342877, 2863253574), (1265551188, 1267737981), (3959177216, 3971231773), (1974894029, 2032625845), (1073375358, 1095439146), (130183265, 223845519), (622227828, 695187782), (4165045943, 4185175198), (126471773, 130183264), (638256411, 664856829), (2725544642, 2863253574), (3913213200, 7829540558), (170691103, 183212529), (1267737982, 1287996367), (223845520, 421054089), (4142785220, 4146091276), (2464603541, 2497827911), (4185175199, 4194060561)]\n",
      "new seeds [2451693126 2462136307  941229774  956126847 3872645852 7788973210\n",
      " 2863253575 2863789920  927578110  941229773 1254861475 1265551187\n",
      " 1117877078 1120661447  131232857  170440432    4917124   26906321\n",
      "  346168560  372295459  849065671  866603111  984064244  992777068\n",
      " 3959177216 4006820159 3916327360 3917692981 4006820160 4057801902\n",
      " 3999128306 4006820159  758779969  849065670 1196050912 1204904733\n",
      " 1869814336 1974894028 1306674295 1306958597 1254861475 1267737981\n",
      " 4006820160 4142785219 3026269959 3046293533 1353423637 1414655296\n",
      " 1749735260 1762174326 4209083316 4239131443 2136669394 2362768797\n",
      "  183212530  194220167 1189359878 1192072244 4057801903 4060823390\n",
      "  993500720 1046108865 1254861475 1353423636 1857805100 1869814335\n",
      " 4294967296 6445144035 1095439147 1101390377 4060823391 4109241562\n",
      " 3248837023 3310491346 2971234036 3026269958 3917692982 3937174087\n",
      " 2068363018 2136669393 1073375358 1120661447  972039880  980427006\n",
      " 1602880419 1636908700 3916327360 3959177215 3345667526 3360246805\n",
      " 3916327360 4006820159 1204904734 1220394594  664856830  668969847\n",
      " 4006820160 4029297578  130183265  131232856 2074253769 2136669393\n",
      " 4253182961 4257415957 1714597082 1749735259 1414655297 1456264537\n",
      " 4142785220 4165045942 4294967296 8017711393 1102680915 1115966297\n",
      " 1115966298 1117877077 3410399809 3473705667 1267737982 1293252703\n",
      "  695187783  729918846 1891380028 1894439803 3405373581 3410399808\n",
      " 1293252704 1353423636 3473888953 3499315465 4194060562 4294967295\n",
      "  972039880  992777068 1869814336 1878554571  622227828  664856829\n",
      " 2462136308 2464603540 4239131444 4241763747  506868461  560267004\n",
      " 2024471316 2032625845 4257415958 4294967295 3944872905 3959177215\n",
      " 4163475592 4165045942 2497827912 2505945067 2408792839 2420863275\n",
      " 3517086649 7433414007 1104016050 1115966297  664856830  673966046\n",
      " 1287996368 1293252703 4006820160 4185175198 2432530754 2435357233\n",
      " 1535840891 1539117962 2568918194 2725544641 2533232777 2568918193\n",
      " 1293252704 1305773306  866603112  894219346 3473705668 3473888952\n",
      " 2859332385 2863253574 3101408994 3173598445 4194060562 6034194748\n",
      " 4194060562 4209083315 1095439147 1117877077 1894439804 1974894028\n",
      " 4146091277 4163475591  894219347  913752390 2420863276 2462136307\n",
      "  956126848  972039879 4047501231 4057801902 4029297579 4045420578\n",
      "   60756547   82868912 4045420579 4047501230 2857342877 2863253574\n",
      " 1265551188 1267737981 3959177216 3971231773 1974894029 2032625845\n",
      " 1073375358 1095439146  130183265  223845519  622227828  695187782\n",
      " 4165045943 4185175198  126471773  130183264  638256411  664856829\n",
      " 2725544642 2863253574 3913213200 7829540558  170691103  183212529\n",
      " 1267737982 1287996367  223845520  421054089 4142785220 4146091276\n",
      " 2464603541 2497827911 4185175199 4194060561]\n"
     ]
    },
    {
     "data": {
      "text/plain": [
       "4917124"
      ]
     },
     "execution_count": 5,
     "metadata": {},
     "output_type": "execute_result"
    }
   ],
   "source": [
    "import numpy as np \n",
    "seed_ranges = (np.array_split([int(x) for x in seeds], len(seeds)/2))\n",
    "# print(\"starting with seed ranges\", seed_ranges)\n",
    "iterations = 0\n",
    "for location_map in location_maps:\n",
    "    windows = []\n",
    "    # print (\"-----\" + location_map[\"label\"] + \"-----\")\n",
    "    # print(\"----- with seed ranges\", seed_ranges)\n",
    "    for seed_start, seed_range in seed_ranges:\n",
    "        #evaluate if seed range is in location range\n",
    "        seed_max = seed_start + seed_range\n",
    "        # print(\"STARTING with seed range of\", seed_start, seed_max)\n",
    "        # print(location_map[\"mappings\"])\n",
    "        found = False\n",
    "        do_loop = True\n",
    "        while do_loop == True: \n",
    "            seed_max = seed_start + seed_range\n",
    "           \n",
    "            for location_seed_start, location_start, location_range in location_map[\"mappings\"]:\n",
    "                # iterations = iterations + 1\n",
    "                # if iterations > 100: \n",
    "                #     # exit()\n",
    "                #     print(\"TOO MANY ITERATIONS\")\n",
    "                #     do_loop = False\n",
    "                #     break \n",
    "                # print(\"raw location info\", location_seed_start, location_start, location_range)\n",
    "                location_seed_max = location_seed_start + location_range\n",
    "                location_offset = location_start - location_seed_start\n",
    "                # print(\"comparing seed range of\", seed_start, seed_max, \"with location range of\", location_seed_start, location_seed_max, location_offset)\n",
    "                #window possibilities\n",
    "                if( seed_start < location_seed_start):\n",
    "                    if(seed_max < location_seed_start):\n",
    "                        # print(\"A SEED starts and ends before location\", seed_start, seed_max, \"with location range of\", location_seed_start, location_seed_max)\n",
    "                        do_loop = False\n",
    "                        found = True\n",
    "                        break;\n",
    "                    else:\n",
    "                        windows.append((seed_start, location_seed_start - 1))\n",
    "                        # print(\"B Appending from before\", windows[-1])\n",
    "                        seed_start = location_seed_start\n",
    "                        seed_range = seed_max - location_seed_start\n",
    "                        found = True\n",
    "                if(seed_start >= location_seed_start and seed_start < location_seed_max):\n",
    "                    # Starts within\n",
    "                    if(seed_max <= location_seed_max):\n",
    "                        # within\n",
    "                        windows.append((seed_start + location_offset, seed_range))\n",
    "                        # print(\"C Appending from within\", windows[-1])\n",
    "                        do_loop = False\n",
    "                        found = True\n",
    "                        break;\n",
    "                    else:\n",
    "                        windows.append((seed_start + location_offset, location_seed_max - seed_start))\n",
    "                        # print(\"D Appending from end\", windows[-1])\n",
    "                        seed_start = location_seed_max\n",
    "                        seed_range = seed_max - location_seed_max\n",
    "                        seed_max = seed_start + seed_range\n",
    "                        # ends after\n",
    "                        # found = False\n",
    "                if(seed_start >= location_seed_max): \n",
    "                     found = False\n",
    "                    # print(\"Total miss\", seed_start, seed_max, \"with location range of\", location_seed_start, location_seed_max)\n",
    "                if found == True : break\n",
    "            if found == False:\n",
    "                windows.append((seed_start, seed_range)) # If I miss all windows entirely that means theres no change to be had\n",
    "                # print(\"NOBODY matched, so added window of\", [windows[-1]])\n",
    "                do_loop = False\n",
    "    seed_ranges = list(set(windows))\n",
    "    # print(\"END seed ranges at the end of \" + location_map[\"label\"], seed_ranges )\n",
    "seed_ranges\n",
    "# print(\"seed ranges at the end\", seed_ranges)\n",
    "print(\"Start/stops at the end\", [(x[0], x[0] + x[1] -1 ) for x in seed_ranges if x[1] > 0])\n",
    "new_seeds = np.array([(x[0], x[0] + x[1] -1 ) for x in seed_ranges if x[1] > 0]).flatten()\n",
    "print(\"new seeds\", new_seeds)\n",
    "min(new_seeds)"
   ]
  }
 ],
 "metadata": {
  "kernelspec": {
   "display_name": "Python 3",
   "language": "python",
   "name": "python3"
  },
  "language_info": {
   "codemirror_mode": {
    "name": "ipython",
    "version": 3
   },
   "file_extension": ".py",
   "mimetype": "text/x-python",
   "name": "python",
   "nbconvert_exporter": "python",
   "pygments_lexer": "ipython3",
   "version": "3.11.4"
  }
 },
 "nbformat": 4,
 "nbformat_minor": 2
}
