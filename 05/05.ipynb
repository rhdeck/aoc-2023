{
 "cells": [
  {
   "cell_type": "markdown",
   "metadata": {},
   "source": [
    "# Part 1"
   ]
  },
  {
   "cell_type": "code",
   "execution_count": 1,
   "metadata": {},
   "outputs": [
    {
     "data": {
      "text/plain": [
       "993500720"
      ]
     },
     "execution_count": 1,
     "metadata": {},
     "output_type": "execute_result"
    }
   ],
   "source": [
    "source = open(\"05.txt\", \"r\").read()\n",
    "sections = source.split(\"\\n\\n\")\n",
    "\n",
    "seed_list = sections[0];\n",
    "seeds = seed_list.split(\" \")[1:]\n",
    "maps = sections[1:]\n",
    "\n",
    "location_maps = []\n",
    "for map in maps:\n",
    "    lines = map.split(\"\\n\")\n",
    "    label = lines[0]\n",
    "    mappings = lines[1:]\n",
    "    location_map = {\"label\": label, \"mappings\": []}\n",
    "\n",
    "    for line in mappings:\n",
    "        target_start, seed_start, seed_range = line.split(\" \")\n",
    "        seed_start = int(seed_start)\n",
    "        target_start = int(target_start)\n",
    "        seed_range = int(seed_range)\n",
    "        location_map[\"mappings\"].append((seed_start, target_start, seed_range))\n",
    "    location_map[\"mappings\"] = sorted(location_map[\"mappings\"], key=lambda x: x[0])\n",
    "    location_maps.append(location_map)\n",
    "def apply_map(start, location_map):\n",
    "    for mapping in location_map[\"mappings\"]:\n",
    "        seed_start, target_start, seed_range = mapping\n",
    "        if start >= seed_start and start < seed_start + seed_range:\n",
    "            return target_start + (start - seed_start)\n",
    "    return start\n",
    "ends = []\n",
    "for seed in seeds:\n",
    "    start = int(seed)\n",
    "    for location_map in location_maps:\n",
    "        start = apply_map(start, location_map)\n",
    "    ends.append(start)\n",
    "ends\n",
    "min(ends)"
   ]
  },
  {
   "cell_type": "markdown",
   "metadata": {},
   "source": [
    "# Part 2\n",
    "\n",
    "A windowing approach to look only at min/maxes"
   ]
  },
  {
   "cell_type": "code",
   "execution_count": 11,
   "metadata": {},
   "outputs": [
    {
     "name": "stdout",
     "output_type": "stream",
     "text": [
      "number of new seeds based on windowing 244\n"
     ]
    },
    {
     "data": {
      "text/plain": [
       "4917124"
      ]
     },
     "execution_count": 11,
     "metadata": {},
     "output_type": "execute_result"
    }
   ],
   "source": [
    "import numpy as np \n",
    "seed_ranges = (np.array_split([int(x) for x in seeds], len(seeds)/2))\n",
    "iterations = 0\n",
    "for location_map in location_maps:\n",
    "    windows = []\n",
    "    for seed_start, seed_range in seed_ranges:\n",
    "        #evaluate if seed range is in location range\n",
    "        seed_max = seed_start + seed_range\n",
    "        found = False\n",
    "        do_loop = True\n",
    "        while do_loop == True: \n",
    "            seed_max = seed_start + seed_range\n",
    "            for location_seed_start, location_start, location_range in location_map[\"mappings\"]:\n",
    "                location_seed_max = location_seed_start + location_range\n",
    "                location_offset = location_start - location_seed_start\n",
    "                #window possibilities\n",
    "                if( seed_start < location_seed_start):\n",
    "                    if(seed_max < location_seed_start):\n",
    "                        do_loop = False\n",
    "                        found = True\n",
    "                        break;\n",
    "                    else:\n",
    "                        windows.append((seed_start, location_seed_start - 1))\n",
    "                        seed_start = location_seed_start\n",
    "                        seed_range = seed_max - location_seed_start\n",
    "                        found = True\n",
    "                if(seed_start >= location_seed_start and seed_start < location_seed_max):\n",
    "                    # Starts within\n",
    "                    if(seed_max <= location_seed_max):\n",
    "                        # within\n",
    "                        windows.append((seed_start + location_offset, seed_range))\n",
    "                        do_loop = False\n",
    "                        found = True\n",
    "                        break;\n",
    "                    else:\n",
    "                        windows.append((seed_start + location_offset, location_seed_max - seed_start))\n",
    "                        seed_start = location_seed_max\n",
    "                        seed_range = seed_max - location_seed_max\n",
    "                        seed_max = seed_start + seed_range\n",
    "                        # ends after\n",
    "                if(seed_start >= location_seed_max): \n",
    "                     found = False\n",
    "                if found == True : break\n",
    "            if found == False:\n",
    "                windows.append((seed_start, seed_range)) # If I miss all windows entirely that means theres no change to be had\n",
    "                do_loop = False\n",
    "    seed_ranges = list(set(windows))\n",
    "new_seeds = np.array([(x[0], x[0] + x[1] -1 ) for x in seed_ranges if x[1] > 0]).flatten()\n",
    "print(\"number of new seeds based on windowing\", len(new_seeds))\n",
    "min(new_seeds)"
   ]
  }
 ],
 "metadata": {
  "kernelspec": {
   "display_name": "Python 3",
   "language": "python",
   "name": "python3"
  },
  "language_info": {
   "codemirror_mode": {
    "name": "ipython",
    "version": 3
   },
   "file_extension": ".py",
   "mimetype": "text/x-python",
   "name": "python",
   "nbconvert_exporter": "python",
   "pygments_lexer": "ipython3",
   "version": "3.11.4"
  }
 },
 "nbformat": 4,
 "nbformat_minor": 2
}
